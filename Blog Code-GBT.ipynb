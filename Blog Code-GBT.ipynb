{
 "cells": [
  {
   "cell_type": "markdown",
   "metadata": {
    "toc": "true"
   },
   "source": [
    "# Table of Contents\n",
    " <p><div class=\"lev1 toc-item\"><a href=\"#Explaining-Decision-Trees-and-Random-Forests\" data-toc-modified-id=\"Explaining-Decision-Trees-and-Random-Forests-1\"><span class=\"toc-item-num\">1&nbsp;&nbsp;</span>Explaining Decision Trees and Random Forests</a></div><div class=\"lev1 toc-item\"><a href=\"#Import-Libraries\" data-toc-modified-id=\"Import-Libraries-2\"><span class=\"toc-item-num\">2&nbsp;&nbsp;</span>Import Libraries</a></div><div class=\"lev1 toc-item\"><a href=\"#How-Do-Decision-Trees-Work?\" data-toc-modified-id=\"How-Do-Decision-Trees-Work?-3\"><span class=\"toc-item-num\">3&nbsp;&nbsp;</span>How Do Decision Trees Work?</a></div><div class=\"lev1 toc-item\"><a href=\"#Load-Data\" data-toc-modified-id=\"Load-Data-4\"><span class=\"toc-item-num\">4&nbsp;&nbsp;</span>Load Data</a></div><div class=\"lev1 toc-item\"><a href=\"#Build-Model\" data-toc-modified-id=\"Build-Model-5\"><span class=\"toc-item-num\">5&nbsp;&nbsp;</span>Build Model</a></div><div class=\"lev2 toc-item\"><a href=\"#Create-Feature-Contribution\" data-toc-modified-id=\"Create-Feature-Contribution-51\"><span class=\"toc-item-num\">5.1&nbsp;&nbsp;</span>Create Feature Contribution</a></div><div class=\"lev1 toc-item\"><a href=\"#Visualizing-Decision-Trees\" data-toc-modified-id=\"Visualizing-Decision-Trees-6\"><span class=\"toc-item-num\">6&nbsp;&nbsp;</span>Visualizing Decision Trees</a></div><div class=\"lev1 toc-item\"><a href=\"#Contributions\" data-toc-modified-id=\"Contributions-7\"><span class=\"toc-item-num\">7&nbsp;&nbsp;</span>Contributions</a></div><div class=\"lev2 toc-item\"><a href=\"#Regression-Contributions\" data-toc-modified-id=\"Regression-Contributions-71\"><span class=\"toc-item-num\">7.1&nbsp;&nbsp;</span>Regression Contributions</a></div><div class=\"lev2 toc-item\"><a href=\"#Decision-Tree-Features-vs.-Contributions\" data-toc-modified-id=\"Decision-Tree-Features-vs.-Contributions-72\"><span class=\"toc-item-num\">7.2&nbsp;&nbsp;</span>Decision Tree Features vs. Contributions</a></div><div class=\"lev2 toc-item\"><a href=\"#Extending-to-Random-Forests\" data-toc-modified-id=\"Extending-to-Random-Forests-73\"><span class=\"toc-item-num\">7.3&nbsp;&nbsp;</span>Extending to Random Forests</a></div><div class=\"lev2 toc-item\"><a href=\"#Multi-class-classification\" data-toc-modified-id=\"Multi-class-classification-74\"><span class=\"toc-item-num\">7.4&nbsp;&nbsp;</span>Multi-class classification</a></div>"
   ]
  },
  {
   "cell_type": "markdown",
   "metadata": {},
   "source": [
    "# Explaining Decision Trees and Random Forests\n",
    "\n",
    "This notebook shows examples of how the `treeinterpreter` (<a href='https://github.com/andosa/treeinterpreter'>https://github.com/andosa/treeinterpreter</a>) library works and provides some insightful plots to gain a deeper understanding of what a decision tree or random forest is doing.\n",
    "\n",
    "I have created a set of useful plotting functions in the file `tree_interp_functions.py`."
   ]
  },
  {
   "cell_type": "markdown",
   "metadata": {},
   "source": [
    "# Import Libraries"
   ]
  },
  {
   "cell_type": "code",
   "execution_count": 14,
   "metadata": {
    "ExecuteTime": {
     "end_time": "2017-09-18T21:43:45.368779Z",
     "start_time": "2017-09-18T21:43:42.801742Z"
    }
   },
   "outputs": [],
   "source": [
    "from __future__ import division\n",
    "\n",
    "from IPython.display import Image, display\n",
    "%matplotlib inline\n",
    "import matplotlib.pyplot as plt\n",
    "import numpy as np\n",
    "import pandas as pd\n",
    "import seaborn as sns\n",
    "from sklearn.datasets import make_moons\n",
    "from sklearn.ensemble import RandomForestClassifier, RandomForestRegressor, GradientBoostingClassifier, GradientBoostingRegressor\n",
    "from sklearn.metrics import roc_auc_score\n",
    "from sklearn.model_selection import train_test_split\n",
    "from sklearn.tree import DecisionTreeClassifier, DecisionTreeRegressor,\\\n",
    "                         export_graphviz\n",
    "from treeinterpreter import treeinterpreter as ti\n",
    "import pydotplus\n",
    "import collections\n",
    "from tree_interp_functions import *\n",
    "from scipy.special import logit, expit\n",
    "from sklearn.datasets.california_housing import fetch_california_housing\n",
    "from sklearn.datasets import load_breast_cancer\n",
    "from mpl_toolkits.mplot3d import Axes3D\n",
    "\n",
    "from sklearn.model_selection import train_test_split\n",
    "from sklearn.ensemble.partial_dependence import plot_partial_dependence\n",
    "from sklearn.ensemble.partial_dependence import partial_dependence\n",
    "\n",
    "from sklearn.metrics import f1_score\n",
    "from sklearn.metrics import accuracy_score"
   ]
  },
  {
   "cell_type": "code",
   "execution_count": 15,
   "metadata": {
    "ExecuteTime": {
     "end_time": "2017-09-18T21:43:45.409091Z",
     "start_time": "2017-09-18T21:43:45.370580Z"
    }
   },
   "outputs": [],
   "source": [
    "# Set default matplotlib settings\n",
    "plt.rcParams['figure.figsize'] = (10, 7)\n",
    "plt.rcParams['lines.linewidth'] = 3\n",
    "plt.rcParams['figure.titlesize'] = 26\n",
    "plt.rcParams['axes.labelsize'] = 18\n",
    "plt.rcParams['axes.titlesize'] = 22\n",
    "plt.rcParams['xtick.labelsize'] = 14\n",
    "plt.rcParams['ytick.labelsize'] = 14\n",
    "plt.rcParams['legend.fontsize'] = 16\n",
    "\n",
    "# Set seaborn colours\n",
    "sns.set_style('darkgrid')\n",
    "sns.set_palette('colorblind')\n",
    "blue, green, red, purple, yellow, cyan = sns.color_palette('colorblind')"
   ]
  },
  {
   "cell_type": "code",
   "execution_count": 16,
   "metadata": {},
   "outputs": [],
   "source": [
    "softmax = lambda x : np.exp(x)/np.sum(np.exp(x))"
   ]
  },
  {
   "cell_type": "markdown",
   "metadata": {},
   "source": [
    "# How Do Decision Trees Work?"
   ]
  },
  {
   "cell_type": "code",
   "execution_count": null,
   "metadata": {
    "ExecuteTime": {
     "end_time": "2017-09-18T21:43:46.169018Z",
     "start_time": "2017-09-18T21:43:45.411668Z"
    }
   },
   "outputs": [],
   "source": []
  },
  {
   "cell_type": "markdown",
   "metadata": {},
   "source": [
    "# Load Data\n",
    "We will use two data sets California Housing Data and Breast Cancer Data"
   ]
  },
  {
   "cell_type": "code",
   "execution_count": 17,
   "metadata": {
    "ExecuteTime": {
     "end_time": "2017-09-18T21:43:46.228634Z",
     "start_time": "2017-09-18T21:43:46.170534Z"
    }
   },
   "outputs": [],
   "source": [
    "cal_housing = fetch_california_housing()\n",
    "names = cal_housing.feature_names\n",
    "calHousing = pd.DataFrame(cal_housing.data, columns=names)\n",
    "X_train_h, X_test_h, y_train_h, y_test_h = train_test_split(calHousing,\n",
    "                                                        cal_housing.target,\n",
    "                                                        test_size=0.2,\n",
    "                                                        random_state=1)"
   ]
  },
  {
   "cell_type": "markdown",
   "metadata": {},
   "source": [
    "Here, we do a simple train/test split of the data."
   ]
  },
  {
   "cell_type": "code",
   "execution_count": 18,
   "metadata": {
    "ExecuteTime": {
     "end_time": "2017-09-18T21:43:46.273033Z",
     "start_time": "2017-09-18T21:43:46.230129Z"
    }
   },
   "outputs": [],
   "source": [
    "cancer_data = load_breast_cancer()\n",
    "names = cancer_data.feature_names\n",
    "cancerData = pd.DataFrame(cancer_data.data, columns=names)\n",
    "cancerTarget = pd.DataFrame(cancer_data.target, columns=[\"target\"])\n",
    "X_train_c, X_test_c, y_train_c, y_test_c = train_test_split(cancerData,\n",
    "                                                        cancer_data.target,\n",
    "                                                        test_size=0.2,\n",
    "                                                        random_state=1)"
   ]
  },
  {
   "cell_type": "markdown",
   "metadata": {},
   "source": [
    "# Build Model\n",
    "Now, we build simple decision tree and random forest models. We will limit the depth of the decision tree to show how the interpretation works."
   ]
  },
  {
   "cell_type": "code",
   "execution_count": 19,
   "metadata": {},
   "outputs": [
    {
     "data": {
      "text/plain": [
       "GradientBoostingRegressor(alpha=0.9, criterion='friedman_mse', init=None,\n",
       "             learning_rate=0.1, loss='ls', max_depth=4, max_features=None,\n",
       "             max_leaf_nodes=None, min_impurity_decrease=0.0,\n",
       "             min_impurity_split=None, min_samples_leaf=1,\n",
       "             min_samples_split=2, min_weight_fraction_leaf=0.0,\n",
       "             n_estimators=500, presort='auto', random_state=0,\n",
       "             subsample=1.0, verbose=0, warm_start=False)"
      ]
     },
     "execution_count": 19,
     "metadata": {},
     "output_type": "execute_result"
    }
   ],
   "source": [
    "rf_bin_clf = RandomForestClassifier(criterion='entropy', \n",
    "                                    max_depth=4,\n",
    "                                    n_estimators=1000, \n",
    "                                    random_state=0)\n",
    "rf_reg = RandomForestRegressor(criterion='mse', \n",
    "                                    max_depth=4,\n",
    "                                    n_estimators=1000, \n",
    "                                    random_state=0)\n",
    "gbt_bin_clf = GradientBoostingClassifier(max_depth=4, \n",
    "                                         n_estimators=500, \n",
    "                                         random_state=0)\n",
    "\n",
    "gbt_reg = GradientBoostingRegressor(max_depth=4, \n",
    "                                         n_estimators=500, \n",
    "                                         random_state=0)\n",
    "rf_bin_clf.fit(X_train_c, y_train_c)\n",
    "rf_reg.fit(X_train_h, y_train_h)\n",
    "gbt_bin_clf.fit(X_train_c, y_train_c)\n",
    "gbt_reg.fit(X_train_h, y_train_h)"
   ]
  },
  {
   "cell_type": "code",
   "execution_count": 20,
   "metadata": {},
   "outputs": [
    {
     "data": {
      "text/plain": [
       "GradientBoostingRegressor(alpha=0.9, criterion='friedman_mse', init=None,\n",
       "             learning_rate=0.1, loss='ls', max_depth=1, max_features=None,\n",
       "             max_leaf_nodes=None, min_impurity_decrease=0.0,\n",
       "             min_impurity_split=None, min_samples_leaf=1,\n",
       "             min_samples_split=2, min_weight_fraction_leaf=0.0,\n",
       "             n_estimators=5, presort='auto', random_state=0, subsample=1.0,\n",
       "             verbose=0, warm_start=False)"
      ]
     },
     "execution_count": 20,
     "metadata": {},
     "output_type": "execute_result"
    }
   ],
   "source": [
    "rf_stump_bin_clf = RandomForestClassifier(criterion='entropy', \n",
    "                                    max_depth=1,\n",
    "                                    n_estimators=2, \n",
    "                                    random_state=0)\n",
    "rf_stump_reg = RandomForestRegressor(criterion='mse', \n",
    "                                    max_depth=1,\n",
    "                                    n_estimators=2, \n",
    "                                    random_state=0)\n",
    "gbt_stump_bin_clf = GradientBoostingClassifier(max_depth=1, \n",
    "                                         n_estimators=500, \n",
    "                                         random_state=0)\n",
    "\n",
    "gbt_stump_reg = GradientBoostingRegressor(max_depth=1, \n",
    "                                         n_estimators=5, \n",
    "                                         random_state=0)\n",
    "rf_stump_bin_clf.fit(X_train_c, y_train_c)\n",
    "rf_stump_reg.fit(X_train_h, y_train_h)\n",
    "gbt_stump_bin_clf.fit(X_train_c, y_train_c)\n",
    "gbt_stump_reg.fit(X_train_h, y_train_h)"
   ]
  },
  {
   "cell_type": "code",
   "execution_count": 21,
   "metadata": {},
   "outputs": [],
   "source": [
    "rf_feature_imp_c = pd.DataFrame(list(zip(X_train_c.columns,  rf_bin_clf.feature_importances_)), columns=[\"features\", \"imp\"])\n",
    "gbt_feature_imp_c = pd.DataFrame(list(zip(X_train_c.columns, gbt_bin_clf.feature_importances_)), columns=[\"features\", \"imp\"])\n",
    "rf_feature_imp_h = pd.DataFrame(list(zip(X_train_h.columns,  rf_reg.feature_importances_)), columns=[\"features\", \"imp\"])\n",
    "gbt_feature_imp_h = pd.DataFrame(list(zip(X_train_h.columns, gbt_reg.feature_importances_)), columns=[\"features\", \"imp\"])"
   ]
  },
  {
   "cell_type": "code",
   "execution_count": 22,
   "metadata": {},
   "outputs": [],
   "source": [
    "rf_stump_feature_imp_c = pd.DataFrame(list(zip(X_train_c.columns,  rf_stump_bin_clf.feature_importances_)), columns=[\"features\", \"imp\"])\n",
    "gbt_stump_feature_imp_c = pd.DataFrame(list(zip(X_train_c.columns, gbt_stump_bin_clf.feature_importances_)), columns=[\"features\", \"imp\"])\n",
    "rf_stump_feature_imp_h = pd.DataFrame(list(zip(X_train_h.columns,  rf_stump_reg.feature_importances_)), columns=[\"features\", \"imp\"])\n",
    "gbt_stump_feature_imp_h = pd.DataFrame(list(zip(X_train_h.columns, gbt_stump_reg.feature_importances_)), columns=[\"features\", \"imp\"])"
   ]
  },
  {
   "cell_type": "markdown",
   "metadata": {},
   "source": [
    "## Create Feature Contribution\n",
    "We use the `ti.predict` function to get our predictions, biases, and contributions. The contributions matrix is a 3d array which represents the contribution for each example, feature, and class label."
   ]
  },
  {
   "cell_type": "markdown",
   "metadata": {},
   "source": [
    "### Stump"
   ]
  },
  {
   "cell_type": "code",
   "execution_count": 23,
   "metadata": {},
   "outputs": [],
   "source": [
    "rf_stump_bin_clf_pred, rf_stump_bin_clf_bias, rf_stump_bin_clf_contrib = ti.predict(rf_stump_bin_clf, X_test_c)\n",
    "gbt_stump_bin_clf_pred, gbt_stump_bin_clf_bias, gbt_stump_bin_clf_contrib = ti.predict(gbt_stump_bin_clf, X_test_c)\n",
    "rf_stump_reg_pred, rf_stump_reg_bias, rf_stump_reg_contrib = ti.predict(rf_stump_reg, X_test_h)\n",
    "gbt_stump_reg_pred, gbt_stump_reg_bias, gbt_stump_reg_contrib = ti.predict(gbt_stump_reg, X_test_h)"
   ]
  },
  {
   "cell_type": "markdown",
   "metadata": {},
   "source": [
    "### Deep"
   ]
  },
  {
   "cell_type": "code",
   "execution_count": 24,
   "metadata": {},
   "outputs": [],
   "source": [
    "rf_bin_clf_pred, rf_bin_clf_bias, rf_bin_clf_contrib = ti.predict(rf_bin_clf, X_test_c)\n",
    "gbt_bin_clf_pred, gbt_bin_clf_bias, gbt_bin_clf_contrib = ti.predict(gbt_bin_clf, X_test_c)\n",
    "rf_reg_pred, rf_reg_bias, rf_reg_contrib = ti.predict(rf_reg, X_test_h)\n",
    "gbt_reg_pred, gbt_reg_bias, gbt_reg_contrib = ti.predict(gbt_reg, X_test_h)"
   ]
  },
  {
   "cell_type": "code",
   "execution_count": 25,
   "metadata": {},
   "outputs": [],
   "source": [
    "compareGBT = list(zip(expit(gbt_bin_clf_pred), expit(gbt_bin_clf_pred)))"
   ]
  },
  {
   "cell_type": "code",
   "execution_count": 26,
   "metadata": {},
   "outputs": [],
   "source": [
    "gbt_bin_clf_orig_proba = gbt_bin_clf.predict_proba(X_test_c)"
   ]
  },
  {
   "cell_type": "code",
   "execution_count": 27,
   "metadata": {},
   "outputs": [
    {
     "name": "stdout",
     "output_type": "stream",
     "text": [
      "500\n"
     ]
    }
   ],
   "source": [
    "sum_gbt = np.zeros(gbt_bin_clf_pred.shape[0])  \n",
    "isFirst = True \n",
    "norm = 0\n",
    "learning_rate = gbt_bin_clf.learning_rate\n",
    "print(gbt_bin_clf.n_estimators)\n",
    "for ii in range(gbt_bin_clf.n_estimators):\n",
    "    #print(gbt_bin_clf.estimators_[ii][0].predict(X_test)[0])\n",
    "    if isFirst:\n",
    "        sum_gbt += (learning_rate * gbt_bin_clf.estimators_[ii][0].predict(X_test_c))\n",
    "        isFirst = False\n",
    "        norm += learning_rate\n",
    "    else:\n",
    "        sum_gbt += (learning_rate * gbt_bin_clf.estimators_[ii][0].predict(X_test_c))\n",
    "        norm += learning_rate\n",
    "#print(\"Norm: \" + str(norm))\n",
    "#print(\"Sum: \" + str(sum_gbt))\n",
    "#print(\"Sum/Norm: \" + str(sum_gbt/norm))\n",
    "#print(\"Result: \" + str(expit(sum_gbt/norm)))\n",
    "#print(\"Target: 0.67489087\")"
   ]
  },
  {
   "cell_type": "code",
   "execution_count": 28,
   "metadata": {},
   "outputs": [
    {
     "data": {
      "text/plain": [
       "(-1e-08, 1e-08)"
      ]
     },
     "execution_count": 28,
     "metadata": {},
     "output_type": "execute_result"
    },
    {
     "data": {
      "image/png": "[encoded data removed]",
      "text/plain": [
       "<matplotlib.figure.Figure at 0x1a0b95d3c8>"
      ]
     },
     "metadata": {},
     "output_type": "display_data"
    }
   ],
   "source": [
    "plt.plot(gbt_bin_clf_orig_proba[:, 1]-expit(sum_gbt + logit(y_train_c.mean())))\n",
    "plt.ylim(-0.00000001, 0.00000001)"
   ]
  },
  {
   "cell_type": "code",
   "execution_count": 29,
   "metadata": {},
   "outputs": [
    {
     "data": {
      "text/plain": [
       "[<matplotlib.lines.Line2D at 0x1a14895be0>]"
      ]
     },
     "execution_count": 29,
     "metadata": {},
     "output_type": "execute_result"
    },
    {
     "data": {
      "image/png": "[encoded data removed]",
      "text/plain": [
       "<matplotlib.figure.Figure at 0x1a0b982d68>"
      ]
     },
     "metadata": {},
     "output_type": "display_data"
    }
   ],
   "source": [
    "plt.plot(gbt_bin_clf_orig_proba[:, 1] - expit(gbt_bin_clf_pred + logit(y_train_c.mean())))"
   ]
  },
  {
   "cell_type": "code",
   "execution_count": 30,
   "metadata": {},
   "outputs": [
    {
     "data": {
      "text/plain": [
       "array([ 0.00000000e+00, -3.90312782e-18,  0.00000000e+00,  3.52365706e-19,\n",
       "       -5.42101086e-19,  4.06575815e-19,  4.33680869e-19,  3.33066907e-16,\n",
       "        0.00000000e+00,  0.00000000e+00,  0.00000000e+00,  9.21571847e-19,\n",
       "        3.52365706e-19,  0.00000000e+00,  0.00000000e+00,  0.00000000e+00,\n",
       "        0.00000000e+00,  0.00000000e+00,  0.00000000e+00,  4.33680869e-19,\n",
       "        0.00000000e+00,  0.00000000e+00,  3.25260652e-19,  0.00000000e+00,\n",
       "        7.04731412e-19,  0.00000000e+00,  0.00000000e+00,  3.25260652e-19,\n",
       "        3.25260652e-19,  5.42101086e-19,  3.25260652e-19,  0.00000000e+00,\n",
       "        3.25260652e-19,  5.42101086e-19,  0.00000000e+00,  0.00000000e+00,\n",
       "       -6.39679282e-18,  0.00000000e+00,  0.00000000e+00,  0.00000000e+00,\n",
       "        0.00000000e+00,  0.00000000e+00,  0.00000000e+00,  0.00000000e+00,\n",
       "        0.00000000e+00,  3.25260652e-19,  0.00000000e+00,  0.00000000e+00,\n",
       "        0.00000000e+00,  4.60785923e-19,  3.25260652e-19,  0.00000000e+00,\n",
       "        0.00000000e+00,  0.00000000e+00, -2.22044605e-16,  0.00000000e+00,\n",
       "        0.00000000e+00,  4.87890978e-19,  0.00000000e+00,  0.00000000e+00,\n",
       "        0.00000000e+00,  0.00000000e+00,  0.00000000e+00,  0.00000000e+00,\n",
       "        0.00000000e+00,  0.00000000e+00,  0.00000000e+00,  3.25260652e-19,\n",
       "        0.00000000e+00,  0.00000000e+00,  0.00000000e+00,  0.00000000e+00,\n",
       "        0.00000000e+00,  3.25260652e-19,  0.00000000e+00,  3.25260652e-19,\n",
       "        0.00000000e+00,  0.00000000e+00,  0.00000000e+00,  3.25260652e-19,\n",
       "        0.00000000e+00,  3.25260652e-19,  0.00000000e+00,  3.25260652e-19,\n",
       "        0.00000000e+00,  0.00000000e+00,  0.00000000e+00,  0.00000000e+00,\n",
       "        3.25260652e-19,  0.00000000e+00,  0.00000000e+00,  3.25260652e-19,\n",
       "        0.00000000e+00,  0.00000000e+00,  3.25260652e-19,  0.00000000e+00,\n",
       "        0.00000000e+00,  0.00000000e+00,  0.00000000e+00,  0.00000000e+00,\n",
       "        0.00000000e+00,  0.00000000e+00,  0.00000000e+00,  0.00000000e+00,\n",
       "        0.00000000e+00,  0.00000000e+00,  0.00000000e+00,  0.00000000e+00,\n",
       "        4.87890978e-19,  0.00000000e+00, -4.49943902e-18,  2.81892565e-18,\n",
       "        1.11022302e-16,  0.00000000e+00])"
      ]
     },
     "execution_count": 30,
     "metadata": {},
     "output_type": "execute_result"
    }
   ],
   "source": [
    "gbt_bin_clf_orig_proba[:, 1] - (expit(sum_gbt + logit(y_train_c.mean())))"
   ]
  },
  {
   "cell_type": "code",
   "execution_count": 31,
   "metadata": {},
   "outputs": [
    {
     "data": {
      "text/plain": [
       "0.5389965007326868"
      ]
     },
     "execution_count": 31,
     "metadata": {},
     "output_type": "execute_result"
    }
   ],
   "source": [
    "logit(y_test_c.mean())"
   ]
  },
  {
   "cell_type": "code",
   "execution_count": 32,
   "metadata": {},
   "outputs": [
    {
     "data": {
      "text/plain": [
       "0.5166907432183888"
      ]
     },
     "execution_count": 32,
     "metadata": {},
     "output_type": "execute_result"
    }
   ],
   "source": [
    "logit(y_train_c.mean())"
   ]
  },
  {
   "cell_type": "code",
   "execution_count": 33,
   "metadata": {},
   "outputs": [
    {
     "data": {
      "text/plain": [
       "[<matplotlib.lines.Line2D at 0x1a13e8e208>]"
      ]
     },
     "execution_count": 33,
     "metadata": {},
     "output_type": "execute_result"
    },
    {
     "data": {
      "image/png": "[encoded data removed]",
      "text/plain": [
       "<matplotlib.figure.Figure at 0x1a0b98a1d0>"
      ]
     },
     "metadata": {},
     "output_type": "display_data"
    }
   ],
   "source": [
    "plt.plot(gbt_bin_clf_orig_proba[:, 1]-expit(gbt_bin_clf_pred+ logit(y_train_c.mean())))"
   ]
  },
  {
   "cell_type": "markdown",
   "metadata": {},
   "source": [
    "# Contributions"
   ]
  },
  {
   "cell_type": "markdown",
   "metadata": {},
   "source": [
    "## Compare Gradient Boosted Trees to RF and DT"
   ]
  },
  {
   "cell_type": "markdown",
   "metadata": {},
   "source": [
    "### Stumps"
   ]
  },
  {
   "cell_type": "code",
   "execution_count": 34,
   "metadata": {},
   "outputs": [
    {
     "data": {
      "image/png": "[encoded data removed]",
      "text/plain": [
       "<matplotlib.figure.Figure at 0x1a0b9c7198>"
      ]
     },
     "metadata": {},
     "output_type": "display_data"
    }
   ],
   "source": [
    "rf_stump_bin_contribs, true_label_rf_stump, pred_rf_stump = plot_obs_feature_contrib(rf_stump_bin_clf,\n",
    "                                                   rf_stump_bin_clf_contrib,\n",
    "                                                   X_test_c,\n",
    "                                                   pd.DataFrame(y_test_c,columns=['target']),\n",
    "                                                   1,\n",
    "                                                   order_by='contribution',\n",
    "                                                   num_features=10\n",
    "                                                  )\n",
    "plt.tight_layout()\n",
    "plt.savefig('plots/contribution_plot_rf_class.png')"
   ]
  },
  {
   "cell_type": "code",
   "execution_count": 35,
   "metadata": {},
   "outputs": [
    {
     "name": "stdout",
     "output_type": "stream",
     "text": [
      "[0.934, 0.066]\n"
     ]
    },
    {
     "data": {
      "image/png": "[encoded data removed]",
      "text/plain": [
       "<matplotlib.figure.Figure at 0x1a13e7b208>"
      ]
     },
     "metadata": {},
     "output_type": "display_data"
    }
   ],
   "source": [
    "gbt_stump_bin_contribs, true_label_gbt_stump, pred_gbt_stump = plot_obs_feature_contrib(gbt_stump_bin_clf,\n",
    "                                                gbt_stump_bin_clf_contrib,\n",
    "                                                X_test_c,\n",
    "                                                pd.DataFrame(y_test_c,columns=['target']),\n",
    "                                                1,\n",
    "                                                order_by='contribution',\n",
    "                                                num_features=10,\n",
    "                                                   neg=True\n",
    "                                    )\n",
    "plt.tight_layout()\n",
    "plt.savefig('plots/contribution_plot_gbt_class.png')"
   ]
  },
  {
   "cell_type": "markdown",
   "metadata": {},
   "source": [
    "### Full Tree"
   ]
  },
  {
   "cell_type": "code",
   "execution_count": 36,
   "metadata": {},
   "outputs": [
    {
     "data": {
      "image/png": "[encoded data removed]",
      "text/plain": [
       "<matplotlib.figure.Figure at 0x1a0ba8d208>"
      ]
     },
     "metadata": {},
     "output_type": "display_data"
    }
   ],
   "source": [
    "df2, true_label2, pred2 = plot_obs_feature_contrib(rf_bin_clf,\n",
    "                                                   rf_bin_clf_contrib,\n",
    "                                                   X_test_c,\n",
    "                                                   pd.DataFrame(y_test_c,columns=['target']),\n",
    "                                                   1,\n",
    "                                                   order_by='contribution',\n",
    "                                                   num_features=10\n",
    "                                                  )\n",
    "plt.tight_layout()\n",
    "plt.savefig('plots/contribution_plot_rf_class.png')"
   ]
  },
  {
   "cell_type": "code",
   "execution_count": 149,
   "metadata": {},
   "outputs": [
    {
     "name": "stdout",
     "output_type": "stream",
     "text": [
      "[0.261, 0.739]\n"
     ]
    },
    {
     "data": {
      "image/png": "[encoded data removed]",
      "text/plain": [
       "<matplotlib.figure.Figure at 0x1a0c2e05c0>"
      ]
     },
     "metadata": {},
     "output_type": "display_data"
    }
   ],
   "source": [
    "df3, true_label3, pred3 = plot_obs_feature_contrib(gbt_bin_clf,\n",
    "                                                gbt_bin_clf_contrib,\n",
    "                                                X_test_c,\n",
    "                                                pd.DataFrame(y_test_c,columns=['target']),\n",
    "                                                7,\n",
    "                                                order_by='contribution',\n",
    "                                                num_features=10,\n",
    "                                                   neg=True\n",
    "                                    )\n",
    "plt.tight_layout()\n",
    "plt.savefig('plots/contribution_plot_gbt_class.png')"
   ]
  },
  {
   "cell_type": "code",
   "execution_count": 91,
   "metadata": {},
   "outputs": [
    {
     "name": "stdout",
     "output_type": "stream",
     "text": [
      "[0.0, 1.0]\n"
     ]
    },
    {
     "data": {
      "image/png": "[encoded data removed]",
      "text/plain": [
       "<matplotlib.figure.Figure at 0x1a0c2fe940>"
      ]
     },
     "metadata": {},
     "output_type": "display_data"
    }
   ],
   "source": [
    "df3, true_label3, pred3 = plot_obs_feature_contrib(gbt_bin_clf,\n",
    "                                                gbt_bin_clf_contrib,\n",
    "                                                X_test_c,\n",
    "                                                pd.DataFrame(y_test_c,columns=['target']),\n",
    "                                                101,\n",
    "                                                order_by='contribution',\n",
    "                                                num_features=10,\n",
    "                                                neg=True\n",
    "                                    )\n",
    "plt.tight_layout()\n",
    "plt.savefig('plots/contribution_plot_gbt_class.png')"
   ]
  },
  {
   "cell_type": "code",
   "execution_count": 94,
   "metadata": {},
   "outputs": [],
   "source": [
    "dingus = gbt_bin_clf.predict_proba(X_test_c)"
   ]
  },
  {
   "cell_type": "code",
   "execution_count": 110,
   "metadata": {},
   "outputs": [],
   "source": [
    "df2 = pd.DataFrame(dingus).sort_values(by=0)"
   ]
  },
  {
   "cell_type": "code",
   "execution_count": 112,
   "metadata": {},
   "outputs": [
    {
     "data": {
      "text/html": [
       "<div>\n",
       "<style>\n",
       "    .dataframe thead tr:only-child th {\n",
       "        text-align: right;\n",
       "    }\n",
       "\n",
       "    .dataframe thead th {\n",
       "        text-align: left;\n",
       "    }\n",
       "\n",
       "    .dataframe tbody tr th {\n",
       "        vertical-align: top;\n",
       "    }\n",
       "</style>\n",
       "<table border=\"1\" class=\"dataframe\">\n",
       "  <thead>\n",
       "    <tr style=\"text-align: right;\">\n",
       "      <th></th>\n",
       "      <th>0</th>\n",
       "      <th>1</th>\n",
       "    </tr>\n",
       "  </thead>\n",
       "  <tbody>\n",
       "    <tr>\n",
       "      <th>14</th>\n",
       "      <td>0.066405</td>\n",
       "      <td>0.933595</td>\n",
       "    </tr>\n",
       "    <tr>\n",
       "      <th>7</th>\n",
       "      <td>0.260531</td>\n",
       "      <td>0.739469</td>\n",
       "    </tr>\n",
       "    <tr>\n",
       "      <th>112</th>\n",
       "      <td>0.683793</td>\n",
       "      <td>0.316207</td>\n",
       "    </tr>\n",
       "  </tbody>\n",
       "</table>\n",
       "</div>"
      ],
      "text/plain": [
       "            0         1\n",
       "14   0.066405  0.933595\n",
       "7    0.260531  0.739469\n",
       "112  0.683793  0.316207"
      ]
     },
     "execution_count": 112,
     "metadata": {},
     "output_type": "execute_result"
    }
   ],
   "source": [
    "df2[(df2[1] < 0.97) & (df2[1] > 0.03)]"
   ]
  },
  {
   "cell_type": "code",
   "execution_count": 108,
   "metadata": {},
   "outputs": [
    {
     "data": {
      "text/plain": [
       "array([0.26053051, 0.73946949, 0.68379315, 0.31620685])"
      ]
     },
     "execution_count": 108,
     "metadata": {},
     "output_type": "execute_result"
    }
   ],
   "source": [
    "dingus[np.where((dingus>0.2) & (dingus<0.8))]"
   ]
  },
  {
   "cell_type": "code",
   "execution_count": 39,
   "metadata": {},
   "outputs": [
    {
     "data": {
      "text/plain": [
       "array([0.00426597, 0.00976493, 0.00426597, 0.00426597, 0.00426597,\n",
       "       0.00426597, 0.00426597, 0.00491929, 0.00426597, 0.00426597,\n",
       "       0.00426597, 0.00426597, 0.00426597, 0.01039684, 0.00426597,\n",
       "       0.00426597, 0.00426597, 0.00426597, 0.00426597, 0.00426597,\n",
       "       0.00426581, 0.0063404 , 0.00259865, 0.00467299, 0.00435128,\n",
       "       0.00426597, 0.00426597, 0.01513121, 0.85223923, 0.00426597])"
      ]
     },
     "execution_count": 39,
     "metadata": {},
     "output_type": "execute_result"
    }
   ],
   "source": [
    "softmax(-1.0*gbt_bin_clf_contrib[1])"
   ]
  },
  {
   "cell_type": "code",
   "execution_count": 40,
   "metadata": {},
   "outputs": [
    {
     "data": {
      "text/plain": [
       "array([ 0.00000000e+00, -8.28128203e-01,  0.00000000e+00,  0.00000000e+00,\n",
       "        0.00000000e+00,  0.00000000e+00,  0.00000000e+00, -1.42494634e-01,\n",
       "        0.00000000e+00,  0.00000000e+00,  0.00000000e+00,  0.00000000e+00,\n",
       "        0.00000000e+00, -8.90832366e-01,  0.00000000e+00,  0.00000000e+00,\n",
       "        0.00000000e+00,  0.00000000e+00,  0.00000000e+00,  0.00000000e+00,\n",
       "        3.73659243e-05, -3.96272222e-01,  4.95677503e-01, -9.11299050e-02,\n",
       "       -1.97999878e-02,  0.00000000e+00,  0.00000000e+00, -1.26609043e+00,\n",
       "       -5.29719798e+00,  0.00000000e+00])"
      ]
     },
     "execution_count": 40,
     "metadata": {},
     "output_type": "execute_result"
    }
   ],
   "source": [
    "gbt_bin_clf_contrib[1]"
   ]
  },
  {
   "cell_type": "code",
   "execution_count": 41,
   "metadata": {},
   "outputs": [
    {
     "data": {
      "text/plain": [
       "0.009740846751323844"
      ]
     },
     "execution_count": 41,
     "metadata": {},
     "output_type": "execute_result"
    }
   ],
   "source": [
    "gbt_bin_clf_bias[1]"
   ]
  },
  {
   "cell_type": "code",
   "execution_count": 42,
   "metadata": {},
   "outputs": [
    {
     "ename": "NameError",
     "evalue": "name 'gbt_bin_reg' is not defined",
     "output_type": "error",
     "traceback": [
      "\u001b[0;31m---------------------------------------------------------------------------\u001b[0m",
      "\u001b[0;31mNameError\u001b[0m                                 Traceback (most recent call last)",
      "\u001b[0;32m<ipython-input-42-7c366a977cc8>\u001b[0m in \u001b[0;36m<module>\u001b[0;34m()\u001b[0m\n\u001b[0;32m----> 1\u001b[0;31m df4, true_label4, pred4 = plot_obs_feature_contrib(gbt_bin_reg,\n\u001b[0m\u001b[1;32m      2\u001b[0m                                                 \u001b[0mgbt_bin_reg_contrib\u001b[0m\u001b[0;34m,\u001b[0m\u001b[0;34m\u001b[0m\u001b[0m\n\u001b[1;32m      3\u001b[0m                                                 \u001b[0mX_test_h\u001b[0m\u001b[0;34m,\u001b[0m\u001b[0;34m\u001b[0m\u001b[0m\n\u001b[1;32m      4\u001b[0m                                                 \u001b[0mpd\u001b[0m\u001b[0;34m.\u001b[0m\u001b[0mDataFrame\u001b[0m\u001b[0;34m(\u001b[0m\u001b[0my_test_h\u001b[0m\u001b[0;34m,\u001b[0m\u001b[0mcolumns\u001b[0m\u001b[0;34m=\u001b[0m\u001b[0;34m[\u001b[0m\u001b[0;34m'target'\u001b[0m\u001b[0;34m]\u001b[0m\u001b[0;34m)\u001b[0m\u001b[0;34m,\u001b[0m\u001b[0;34m\u001b[0m\u001b[0m\n\u001b[1;32m      5\u001b[0m                                                 \u001b[0;36m1\u001b[0m\u001b[0;34m,\u001b[0m\u001b[0;34m\u001b[0m\u001b[0m\n",
      "\u001b[0;31mNameError\u001b[0m: name 'gbt_bin_reg' is not defined"
     ]
    }
   ],
   "source": [
    "df4, true_label4, pred4 = plot_obs_feature_contrib(gbt_bin_reg,\n",
    "                                                gbt_bin_reg_contrib,\n",
    "                                                X_test_h,\n",
    "                                                pd.DataFrame(y_test_h,columns=['target']),\n",
    "                                                1,\n",
    "                                                order_by='contribution',\n",
    "                                                num_features=10,\n",
    "                                                   neg=True\n",
    "                                    )\n",
    "plt.tight_layout()\n",
    "plt.savefig('plots/contribution_plot_gbt_class.png')"
   ]
  },
  {
   "cell_type": "code",
   "execution_count": null,
   "metadata": {},
   "outputs": [],
   "source": [
    "df5, true_label5, pred5 = plot_obs_feature_contrib(gbt_bin_reg,\n",
    "                                                gbt_bin_reg_contrib,\n",
    "                                                X_test_h,\n",
    "                                                pd.DataFrame(y_test_h,columns=['target']),\n",
    "                                                100,\n",
    "                                                order_by='contribution',\n",
    "                                                num_features=10,\n",
    "                                    )\n",
    "plt.tight_layout()\n",
    "plt.savefig('plots/contribution_plot_gbt_class.png')"
   ]
  },
  {
   "cell_type": "code",
   "execution_count": 43,
   "metadata": {},
   "outputs": [
    {
     "ename": "NameError",
     "evalue": "name 'gbt_bin_reg' is not defined",
     "output_type": "error",
     "traceback": [
      "\u001b[0;31m---------------------------------------------------------------------------\u001b[0m",
      "\u001b[0;31mNameError\u001b[0m                                 Traceback (most recent call last)",
      "\u001b[0;32m<ipython-input-43-3c1c553c3ced>\u001b[0m in \u001b[0;36m<module>\u001b[0;34m()\u001b[0m\n\u001b[0;32m----> 1\u001b[0;31m gbt_reg_dot_data1 = export_graphviz(gbt_bin_reg.estimators_[1][0],\n\u001b[0m\u001b[1;32m      2\u001b[0m                                    \u001b[0mout_file\u001b[0m\u001b[0;34m=\u001b[0m\u001b[0;32mNone\u001b[0m\u001b[0;34m,\u001b[0m\u001b[0;34m\u001b[0m\u001b[0m\n\u001b[1;32m      3\u001b[0m                                    \u001b[0mfeature_names\u001b[0m\u001b[0;34m=\u001b[0m\u001b[0mX_train_h\u001b[0m\u001b[0;34m.\u001b[0m\u001b[0mcolumns\u001b[0m\u001b[0;34m,\u001b[0m\u001b[0;34m\u001b[0m\u001b[0m\n\u001b[1;32m      4\u001b[0m                                     \u001b[0mfilled\u001b[0m\u001b[0;34m=\u001b[0m\u001b[0;32mTrue\u001b[0m\u001b[0;34m,\u001b[0m\u001b[0;34m\u001b[0m\u001b[0m\n\u001b[1;32m      5\u001b[0m                                     \u001b[0mrounded\u001b[0m\u001b[0;34m=\u001b[0m\u001b[0;32mTrue\u001b[0m\u001b[0;34m,\u001b[0m\u001b[0;34m\u001b[0m\u001b[0m\n",
      "\u001b[0;31mNameError\u001b[0m: name 'gbt_bin_reg' is not defined"
     ]
    }
   ],
   "source": [
    "gbt_reg_dot_data1 = export_graphviz(gbt_bin_reg.estimators_[1][0],\n",
    "                                   out_file=None,\n",
    "                                   feature_names=X_train_h.columns,\n",
    "                                    filled=True,\n",
    "                                    rounded=True,\n",
    "                                    special_characters=True\n",
    "                                  )\n",
    "gbt_reg_graph1 = pydotplus.graph_from_dot_data(gbt_reg_dot_data1)\n",
    "gbt_reg_graph1.write_png('plots/bin_reg_gbt1_path.png')\n",
    "Image(gbt_reg_graph1.create_png())"
   ]
  },
  {
   "cell_type": "code",
   "execution_count": 44,
   "metadata": {},
   "outputs": [
    {
     "ename": "NameError",
     "evalue": "name 'gbt_bin_reg' is not defined",
     "output_type": "error",
     "traceback": [
      "\u001b[0;31m---------------------------------------------------------------------------\u001b[0m",
      "\u001b[0;31mNameError\u001b[0m                                 Traceback (most recent call last)",
      "\u001b[0;32m<ipython-input-44-65919830a3e4>\u001b[0m in \u001b[0;36m<module>\u001b[0;34m()\u001b[0m\n\u001b[0;32m----> 1\u001b[0;31m gbt_reg_dot_data1 = export_graphviz(gbt_bin_reg.estimators_[0][0],\n\u001b[0m\u001b[1;32m      2\u001b[0m                                    \u001b[0mout_file\u001b[0m\u001b[0;34m=\u001b[0m\u001b[0;32mNone\u001b[0m\u001b[0;34m,\u001b[0m\u001b[0;34m\u001b[0m\u001b[0m\n\u001b[1;32m      3\u001b[0m                                    \u001b[0mfeature_names\u001b[0m\u001b[0;34m=\u001b[0m\u001b[0mX_train_h\u001b[0m\u001b[0;34m.\u001b[0m\u001b[0mcolumns\u001b[0m\u001b[0;34m[\u001b[0m\u001b[0;36m0\u001b[0m\u001b[0;34m:\u001b[0m\u001b[0;36m8\u001b[0m\u001b[0;34m]\u001b[0m\u001b[0;34m,\u001b[0m\u001b[0;34m\u001b[0m\u001b[0m\n\u001b[1;32m      4\u001b[0m                                     \u001b[0mfilled\u001b[0m\u001b[0;34m=\u001b[0m\u001b[0;32mTrue\u001b[0m\u001b[0;34m,\u001b[0m\u001b[0;34m\u001b[0m\u001b[0m\n\u001b[1;32m      5\u001b[0m                                     \u001b[0mrounded\u001b[0m\u001b[0;34m=\u001b[0m\u001b[0;32mTrue\u001b[0m\u001b[0;34m,\u001b[0m\u001b[0;34m\u001b[0m\u001b[0m\n",
      "\u001b[0;31mNameError\u001b[0m: name 'gbt_bin_reg' is not defined"
     ]
    }
   ],
   "source": [
    "gbt_reg_dot_data1 = export_graphviz(gbt_bin_reg.estimators_[0][0],\n",
    "                                   out_file=None,\n",
    "                                   feature_names=X_train_h.columns[0:8],\n",
    "                                    filled=True,\n",
    "                                    rounded=True,\n",
    "                                    special_characters=True\n",
    "                                  )\n",
    "gbt_reg_graph1 = pydotplus.graph_from_dot_data(gbt_reg_dot_data1)\n",
    "gbt_reg_graph1.write_png('plots/bin_reg_gbt1_path.png')\n",
    "Image(gbt_reg_graph1.create_png())"
   ]
  },
  {
   "cell_type": "code",
   "execution_count": 45,
   "metadata": {},
   "outputs": [
    {
     "name": "stderr",
     "output_type": "stream",
     "text": [
      "/anaconda3/lib/python3.6/site-packages/ipykernel_launcher.py:2: SettingWithCopyWarning: \n",
      "A value is trying to be set on a copy of a slice from a DataFrame.\n",
      "Try using .loc[row_indexer,col_indexer] = value instead\n",
      "\n",
      "See the caveats in the documentation: http://pandas.pydata.org/pandas-docs/stable/indexing.html#indexing-view-versus-copy\n",
      "  \n"
     ]
    }
   ],
   "source": [
    "XX = X_train_h\n",
    "XX['target']=y_train_h\n"
   ]
  },
  {
   "cell_type": "code",
   "execution_count": 46,
   "metadata": {},
   "outputs": [
    {
     "data": {
      "text/plain": [
       "1.8115086011355572"
      ]
     },
     "execution_count": 46,
     "metadata": {},
     "output_type": "execute_result"
    }
   ],
   "source": [
    "XX[XX.MedInc<=5.59].target.values.mean()"
   ]
  },
  {
   "cell_type": "code",
   "execution_count": 47,
   "metadata": {},
   "outputs": [
    {
     "data": {
      "text/plain": [
       "1.7555538267120694"
      ]
     },
     "execution_count": 47,
     "metadata": {},
     "output_type": "execute_result"
    }
   ],
   "source": [
    "XX[XX.MedInc<=5.12].target.values.mean()"
   ]
  },
  {
   "cell_type": "code",
   "execution_count": 48,
   "metadata": {},
   "outputs": [
    {
     "data": {
      "text/plain": [
       "3.6238883608587944"
      ]
     },
     "execution_count": 48,
     "metadata": {},
     "output_type": "execute_result"
    }
   ],
   "source": [
    "XX[XX.MedInc>5.59].target.values.mean()"
   ]
  },
  {
   "cell_type": "code",
   "execution_count": 49,
   "metadata": {},
   "outputs": [
    {
     "data": {
      "text/plain": [
       "3.369397441507141"
      ]
     },
     "execution_count": 49,
     "metadata": {},
     "output_type": "execute_result"
    }
   ],
   "source": [
    "XX[XX.MedInc>5.124].target.values.mean()"
   ]
  },
  {
   "cell_type": "code",
   "execution_count": 50,
   "metadata": {},
   "outputs": [
    {
     "data": {
      "text/plain": [
       "5.657276638475073"
      ]
     },
     "execution_count": 50,
     "metadata": {},
     "output_type": "execute_result"
    }
   ],
   "source": [
    "1.0* XX[XX.MedInc>5.59].target.values.mean() + y_test_h.mean()"
   ]
  },
  {
   "cell_type": "code",
   "execution_count": 51,
   "metadata": {},
   "outputs": [
    {
     "data": {
      "text/plain": [
       "5.40278571912342"
      ]
     },
     "execution_count": 51,
     "metadata": {},
     "output_type": "execute_result"
    }
   ],
   "source": [
    "1.0* XX[XX.MedInc>5.124].target.values.mean()+ y_test_h.mean()"
   ]
  },
  {
   "cell_type": "code",
   "execution_count": 52,
   "metadata": {},
   "outputs": [
    {
     "ename": "NameError",
     "evalue": "name 'gbt_bin_reg_pred' is not defined",
     "output_type": "error",
     "traceback": [
      "\u001b[0;31m---------------------------------------------------------------------------\u001b[0m",
      "\u001b[0;31mNameError\u001b[0m                                 Traceback (most recent call last)",
      "\u001b[0;32m<ipython-input-52-ba117957bdc0>\u001b[0m in \u001b[0;36m<module>\u001b[0;34m()\u001b[0m\n\u001b[0;32m----> 1\u001b[0;31m \u001b[0mgbt_bin_reg_pred\u001b[0m\u001b[0;34m.\u001b[0m\u001b[0mmean\u001b[0m\u001b[0;34m(\u001b[0m\u001b[0;34m)\u001b[0m\u001b[0;34m\u001b[0m\u001b[0m\n\u001b[0m",
      "\u001b[0;31mNameError\u001b[0m: name 'gbt_bin_reg_pred' is not defined"
     ]
    }
   ],
   "source": [
    "gbt_bin_reg_pred.mean()"
   ]
  },
  {
   "cell_type": "code",
   "execution_count": 53,
   "metadata": {},
   "outputs": [
    {
     "data": {
      "text/plain": [
       "2.033388277616279"
      ]
     },
     "execution_count": 53,
     "metadata": {},
     "output_type": "execute_result"
    }
   ],
   "source": [
    "y_test_h.mean()"
   ]
  },
  {
   "cell_type": "code",
   "execution_count": 54,
   "metadata": {},
   "outputs": [
    {
     "ename": "NameError",
     "evalue": "name 'gbt_bin_reg' is not defined",
     "output_type": "error",
     "traceback": [
      "\u001b[0;31m---------------------------------------------------------------------------\u001b[0m",
      "\u001b[0;31mNameError\u001b[0m                                 Traceback (most recent call last)",
      "\u001b[0;32m<ipython-input-54-ec56cfdd5091>\u001b[0m in \u001b[0;36m<module>\u001b[0;34m()\u001b[0m\n\u001b[0;32m----> 1\u001b[0;31m \u001b[0mgbt_bin_reg\u001b[0m\u001b[0;34m.\u001b[0m\u001b[0mpredict\u001b[0m\u001b[0;34m(\u001b[0m\u001b[0mX_test_h\u001b[0m\u001b[0;34m)\u001b[0m\u001b[0;34m[\u001b[0m\u001b[0;36m100\u001b[0m\u001b[0;34m]\u001b[0m\u001b[0;34m\u001b[0m\u001b[0m\n\u001b[0m",
      "\u001b[0;31mNameError\u001b[0m: name 'gbt_bin_reg' is not defined"
     ]
    }
   ],
   "source": [
    "gbt_bin_reg.predict(X_test_h)[100]"
   ]
  },
  {
   "cell_type": "code",
   "execution_count": 55,
   "metadata": {},
   "outputs": [
    {
     "ename": "NameError",
     "evalue": "name 'df5' is not defined",
     "output_type": "error",
     "traceback": [
      "\u001b[0;31m---------------------------------------------------------------------------\u001b[0m",
      "\u001b[0;31mNameError\u001b[0m                                 Traceback (most recent call last)",
      "\u001b[0;32m<ipython-input-55-66b053877993>\u001b[0m in \u001b[0;36m<module>\u001b[0;34m()\u001b[0m\n\u001b[0;32m----> 1\u001b[0;31m \u001b[0mdf5\u001b[0m\u001b[0;34m.\u001b[0m\u001b[0mcontrib\u001b[0m\u001b[0;34m.\u001b[0m\u001b[0mvalues\u001b[0m\u001b[0;34m\u001b[0m\u001b[0m\n\u001b[0m",
      "\u001b[0;31mNameError\u001b[0m: name 'df5' is not defined"
     ]
    }
   ],
   "source": [
    "df5.contrib.values"
   ]
  },
  {
   "cell_type": "code",
   "execution_count": 56,
   "metadata": {},
   "outputs": [
    {
     "data": {
      "text/plain": [
       "2.033388277616279"
      ]
     },
     "execution_count": 56,
     "metadata": {},
     "output_type": "execute_result"
    }
   ],
   "source": [
    "y_test_h.mean()"
   ]
  },
  {
   "cell_type": "code",
   "execution_count": 57,
   "metadata": {},
   "outputs": [
    {
     "data": {
      "text/plain": [
       "0.004455002403008335"
      ]
     },
     "execution_count": 57,
     "metadata": {},
     "output_type": "execute_result"
    }
   ],
   "source": [
    "expit(5+ 1.1)-expit(5)"
   ]
  },
  {
   "cell_type": "code",
   "execution_count": 58,
   "metadata": {},
   "outputs": [
    {
     "data": {
      "text/plain": [
       "0.0014134238348780803"
      ]
     },
     "execution_count": 58,
     "metadata": {},
     "output_type": "execute_result"
    }
   ],
   "source": [
    "expit(5 + 1.1 + 1) - expit(6.1)"
   ]
  },
  {
   "cell_type": "code",
   "execution_count": 59,
   "metadata": {},
   "outputs": [
    {
     "data": {
      "text/plain": [
       "0.7310585786300049"
      ]
     },
     "execution_count": 59,
     "metadata": {},
     "output_type": "execute_result"
    }
   ],
   "source": [
    "expit(1) # contrib"
   ]
  },
  {
   "cell_type": "code",
   "execution_count": 60,
   "metadata": {},
   "outputs": [
    {
     "data": {
      "text/plain": [
       "0.019201526965112792"
      ]
     },
     "execution_count": 60,
     "metadata": {},
     "output_type": "execute_result"
    }
   ],
   "source": [
    "expit(1.1)-expit(1)"
   ]
  },
  {
   "cell_type": "code",
   "execution_count": 61,
   "metadata": {},
   "outputs": [
    {
     "data": {
      "text/plain": [
       "0.10240397027132819"
      ]
     },
     "execution_count": 61,
     "metadata": {},
     "output_type": "execute_result"
    }
   ],
   "source": [
    "expit(5)-expit(2.1)"
   ]
  },
  {
   "cell_type": "code",
   "execution_count": 62,
   "metadata": {},
   "outputs": [],
   "source": [
    "test = gbt_bin_clf_contrib[1]\n"
   ]
  },
  {
   "cell_type": "code",
   "execution_count": 63,
   "metadata": {},
   "outputs": [],
   "source": [
    "df3_imp = pd.DataFrame(gbt_bin_clf.feature_importances_, columns=[\"fimp\"], index=X_train_c.columns)"
   ]
  },
  {
   "cell_type": "code",
   "execution_count": 64,
   "metadata": {},
   "outputs": [
    {
     "data": {
      "text/html": [
       "<div>\n",
       "<style>\n",
       "    .dataframe thead tr:only-child th {\n",
       "        text-align: right;\n",
       "    }\n",
       "\n",
       "    .dataframe thead th {\n",
       "        text-align: left;\n",
       "    }\n",
       "\n",
       "    .dataframe tbody tr th {\n",
       "        vertical-align: top;\n",
       "    }\n",
       "</style>\n",
       "<table border=\"1\" class=\"dataframe\">\n",
       "  <thead>\n",
       "    <tr style=\"text-align: right;\">\n",
       "      <th></th>\n",
       "      <th>fimp</th>\n",
       "      <th>contrib</th>\n",
       "      <th>feat_val</th>\n",
       "      <th>abs_contrib</th>\n",
       "    </tr>\n",
       "  </thead>\n",
       "  <tbody>\n",
       "    <tr>\n",
       "      <th>mean radius</th>\n",
       "      <td>0.001080</td>\n",
       "      <td>0.000000</td>\n",
       "      <td>13.170000</td>\n",
       "      <td>0.000000</td>\n",
       "    </tr>\n",
       "    <tr>\n",
       "      <th>mean texture</th>\n",
       "      <td>0.001107</td>\n",
       "      <td>-0.828128</td>\n",
       "      <td>18.660000</td>\n",
       "      <td>0.828128</td>\n",
       "    </tr>\n",
       "    <tr>\n",
       "      <th>mean perimeter</th>\n",
       "      <td>0.000000</td>\n",
       "      <td>0.000000</td>\n",
       "      <td>85.980000</td>\n",
       "      <td>0.000000</td>\n",
       "    </tr>\n",
       "    <tr>\n",
       "      <th>mean area</th>\n",
       "      <td>0.000000</td>\n",
       "      <td>0.000000</td>\n",
       "      <td>534.600000</td>\n",
       "      <td>0.000000</td>\n",
       "    </tr>\n",
       "    <tr>\n",
       "      <th>mean smoothness</th>\n",
       "      <td>0.000654</td>\n",
       "      <td>0.000000</td>\n",
       "      <td>0.115800</td>\n",
       "      <td>0.000000</td>\n",
       "    </tr>\n",
       "    <tr>\n",
       "      <th>mean compactness</th>\n",
       "      <td>0.000042</td>\n",
       "      <td>0.000000</td>\n",
       "      <td>0.123100</td>\n",
       "      <td>0.000000</td>\n",
       "    </tr>\n",
       "    <tr>\n",
       "      <th>mean concavity</th>\n",
       "      <td>0.000095</td>\n",
       "      <td>0.000000</td>\n",
       "      <td>0.122600</td>\n",
       "      <td>0.000000</td>\n",
       "    </tr>\n",
       "    <tr>\n",
       "      <th>mean concave points</th>\n",
       "      <td>0.006600</td>\n",
       "      <td>-0.142495</td>\n",
       "      <td>0.073400</td>\n",
       "      <td>0.142495</td>\n",
       "    </tr>\n",
       "    <tr>\n",
       "      <th>mean symmetry</th>\n",
       "      <td>0.000044</td>\n",
       "      <td>0.000000</td>\n",
       "      <td>0.212800</td>\n",
       "      <td>0.000000</td>\n",
       "    </tr>\n",
       "    <tr>\n",
       "      <th>mean fractal dimension</th>\n",
       "      <td>0.000058</td>\n",
       "      <td>0.000000</td>\n",
       "      <td>0.067770</td>\n",
       "      <td>0.000000</td>\n",
       "    </tr>\n",
       "    <tr>\n",
       "      <th>radius error</th>\n",
       "      <td>0.005558</td>\n",
       "      <td>0.000000</td>\n",
       "      <td>0.287100</td>\n",
       "      <td>0.000000</td>\n",
       "    </tr>\n",
       "    <tr>\n",
       "      <th>texture error</th>\n",
       "      <td>0.000437</td>\n",
       "      <td>0.000000</td>\n",
       "      <td>0.893700</td>\n",
       "      <td>0.000000</td>\n",
       "    </tr>\n",
       "    <tr>\n",
       "      <th>perimeter error</th>\n",
       "      <td>0.000398</td>\n",
       "      <td>0.000000</td>\n",
       "      <td>1.897000</td>\n",
       "      <td>0.000000</td>\n",
       "    </tr>\n",
       "    <tr>\n",
       "      <th>area error</th>\n",
       "      <td>0.005720</td>\n",
       "      <td>-0.890832</td>\n",
       "      <td>24.250000</td>\n",
       "      <td>0.890832</td>\n",
       "    </tr>\n",
       "    <tr>\n",
       "      <th>smoothness error</th>\n",
       "      <td>0.000060</td>\n",
       "      <td>0.000000</td>\n",
       "      <td>0.006532</td>\n",
       "      <td>0.000000</td>\n",
       "    </tr>\n",
       "    <tr>\n",
       "      <th>compactness error</th>\n",
       "      <td>0.001904</td>\n",
       "      <td>0.000000</td>\n",
       "      <td>0.023360</td>\n",
       "      <td>0.000000</td>\n",
       "    </tr>\n",
       "    <tr>\n",
       "      <th>concavity error</th>\n",
       "      <td>0.000115</td>\n",
       "      <td>0.000000</td>\n",
       "      <td>0.029050</td>\n",
       "      <td>0.000000</td>\n",
       "    </tr>\n",
       "    <tr>\n",
       "      <th>concave points error</th>\n",
       "      <td>0.002951</td>\n",
       "      <td>0.000000</td>\n",
       "      <td>0.012150</td>\n",
       "      <td>0.000000</td>\n",
       "    </tr>\n",
       "    <tr>\n",
       "      <th>symmetry error</th>\n",
       "      <td>0.000101</td>\n",
       "      <td>0.000000</td>\n",
       "      <td>0.017430</td>\n",
       "      <td>0.000000</td>\n",
       "    </tr>\n",
       "    <tr>\n",
       "      <th>fractal dimension error</th>\n",
       "      <td>0.000399</td>\n",
       "      <td>0.000000</td>\n",
       "      <td>0.003643</td>\n",
       "      <td>0.000000</td>\n",
       "    </tr>\n",
       "    <tr>\n",
       "      <th>worst radius</th>\n",
       "      <td>0.004379</td>\n",
       "      <td>0.000037</td>\n",
       "      <td>15.670000</td>\n",
       "      <td>0.000037</td>\n",
       "    </tr>\n",
       "    <tr>\n",
       "      <th>worst texture</th>\n",
       "      <td>0.012987</td>\n",
       "      <td>-0.396272</td>\n",
       "      <td>27.950000</td>\n",
       "      <td>0.396272</td>\n",
       "    </tr>\n",
       "    <tr>\n",
       "      <th>worst perimeter</th>\n",
       "      <td>0.097820</td>\n",
       "      <td>0.495678</td>\n",
       "      <td>102.800000</td>\n",
       "      <td>0.495678</td>\n",
       "    </tr>\n",
       "    <tr>\n",
       "      <th>worst area</th>\n",
       "      <td>0.008189</td>\n",
       "      <td>-0.091130</td>\n",
       "      <td>759.400000</td>\n",
       "      <td>0.091130</td>\n",
       "    </tr>\n",
       "    <tr>\n",
       "      <th>worst smoothness</th>\n",
       "      <td>0.000671</td>\n",
       "      <td>-0.019800</td>\n",
       "      <td>0.178600</td>\n",
       "      <td>0.019800</td>\n",
       "    </tr>\n",
       "    <tr>\n",
       "      <th>worst compactness</th>\n",
       "      <td>0.001142</td>\n",
       "      <td>0.000000</td>\n",
       "      <td>0.416600</td>\n",
       "      <td>0.000000</td>\n",
       "    </tr>\n",
       "    <tr>\n",
       "      <th>worst concavity</th>\n",
       "      <td>0.000532</td>\n",
       "      <td>0.000000</td>\n",
       "      <td>0.500600</td>\n",
       "      <td>0.000000</td>\n",
       "    </tr>\n",
       "    <tr>\n",
       "      <th>worst concave points</th>\n",
       "      <td>0.011268</td>\n",
       "      <td>-1.266090</td>\n",
       "      <td>0.208800</td>\n",
       "      <td>1.266090</td>\n",
       "    </tr>\n",
       "    <tr>\n",
       "      <th>worst symmetry</th>\n",
       "      <td>0.001689</td>\n",
       "      <td>-5.297198</td>\n",
       "      <td>0.390000</td>\n",
       "      <td>5.297198</td>\n",
       "    </tr>\n",
       "    <tr>\n",
       "      <th>worst fractal dimension</th>\n",
       "      <td>0.000000</td>\n",
       "      <td>0.000000</td>\n",
       "      <td>0.117900</td>\n",
       "      <td>0.000000</td>\n",
       "    </tr>\n",
       "  </tbody>\n",
       "</table>\n",
       "</div>"
      ],
      "text/plain": [
       "                             fimp   contrib    feat_val  abs_contrib\n",
       "mean radius              0.001080  0.000000   13.170000     0.000000\n",
       "mean texture             0.001107 -0.828128   18.660000     0.828128\n",
       "mean perimeter           0.000000  0.000000   85.980000     0.000000\n",
       "mean area                0.000000  0.000000  534.600000     0.000000\n",
       "mean smoothness          0.000654  0.000000    0.115800     0.000000\n",
       "mean compactness         0.000042  0.000000    0.123100     0.000000\n",
       "mean concavity           0.000095  0.000000    0.122600     0.000000\n",
       "mean concave points      0.006600 -0.142495    0.073400     0.142495\n",
       "mean symmetry            0.000044  0.000000    0.212800     0.000000\n",
       "mean fractal dimension   0.000058  0.000000    0.067770     0.000000\n",
       "radius error             0.005558  0.000000    0.287100     0.000000\n",
       "texture error            0.000437  0.000000    0.893700     0.000000\n",
       "perimeter error          0.000398  0.000000    1.897000     0.000000\n",
       "area error               0.005720 -0.890832   24.250000     0.890832\n",
       "smoothness error         0.000060  0.000000    0.006532     0.000000\n",
       "compactness error        0.001904  0.000000    0.023360     0.000000\n",
       "concavity error          0.000115  0.000000    0.029050     0.000000\n",
       "concave points error     0.002951  0.000000    0.012150     0.000000\n",
       "symmetry error           0.000101  0.000000    0.017430     0.000000\n",
       "fractal dimension error  0.000399  0.000000    0.003643     0.000000\n",
       "worst radius             0.004379  0.000037   15.670000     0.000037\n",
       "worst texture            0.012987 -0.396272   27.950000     0.396272\n",
       "worst perimeter          0.097820  0.495678  102.800000     0.495678\n",
       "worst area               0.008189 -0.091130  759.400000     0.091130\n",
       "worst smoothness         0.000671 -0.019800    0.178600     0.019800\n",
       "worst compactness        0.001142  0.000000    0.416600     0.000000\n",
       "worst concavity          0.000532  0.000000    0.500600     0.000000\n",
       "worst concave points     0.011268 -1.266090    0.208800     1.266090\n",
       "worst symmetry           0.001689 -5.297198    0.390000     5.297198\n",
       "worst fractal dimension  0.000000  0.000000    0.117900     0.000000"
      ]
     },
     "execution_count": 64,
     "metadata": {},
     "output_type": "execute_result"
    }
   ],
   "source": [
    "df3_imp.merge(df3, left_index=True, right_index=True)"
   ]
  },
  {
   "cell_type": "code",
   "execution_count": 65,
   "metadata": {},
   "outputs": [
    {
     "ename": "KeyError",
     "evalue": "'proba'",
     "output_type": "error",
     "traceback": [
      "\u001b[0;31m---------------------------------------------------------------------------\u001b[0m",
      "\u001b[0;31mKeyError\u001b[0m                                  Traceback (most recent call last)",
      "\u001b[0;32m/anaconda3/lib/python3.6/site-packages/pandas/core/indexes/base.py\u001b[0m in \u001b[0;36mget_loc\u001b[0;34m(self, key, method, tolerance)\u001b[0m\n\u001b[1;32m   2441\u001b[0m             \u001b[0;32mtry\u001b[0m\u001b[0;34m:\u001b[0m\u001b[0;34m\u001b[0m\u001b[0m\n\u001b[0;32m-> 2442\u001b[0;31m                 \u001b[0;32mreturn\u001b[0m \u001b[0mself\u001b[0m\u001b[0;34m.\u001b[0m\u001b[0m_engine\u001b[0m\u001b[0;34m.\u001b[0m\u001b[0mget_loc\u001b[0m\u001b[0;34m(\u001b[0m\u001b[0mkey\u001b[0m\u001b[0;34m)\u001b[0m\u001b[0;34m\u001b[0m\u001b[0m\n\u001b[0m\u001b[1;32m   2443\u001b[0m             \u001b[0;32mexcept\u001b[0m \u001b[0mKeyError\u001b[0m\u001b[0;34m:\u001b[0m\u001b[0;34m\u001b[0m\u001b[0m\n",
      "\u001b[0;32mpandas/_libs/index.pyx\u001b[0m in \u001b[0;36mpandas._libs.index.IndexEngine.get_loc\u001b[0;34m()\u001b[0m\n",
      "\u001b[0;32mpandas/_libs/index.pyx\u001b[0m in \u001b[0;36mpandas._libs.index.IndexEngine.get_loc\u001b[0;34m()\u001b[0m\n",
      "\u001b[0;32mpandas/_libs/hashtable_class_helper.pxi\u001b[0m in \u001b[0;36mpandas._libs.hashtable.PyObjectHashTable.get_item\u001b[0;34m()\u001b[0m\n",
      "\u001b[0;32mpandas/_libs/hashtable_class_helper.pxi\u001b[0m in \u001b[0;36mpandas._libs.hashtable.PyObjectHashTable.get_item\u001b[0;34m()\u001b[0m\n",
      "\u001b[0;31mKeyError\u001b[0m: 'proba'",
      "\nDuring handling of the above exception, another exception occurred:\n",
      "\u001b[0;31mKeyError\u001b[0m                                  Traceback (most recent call last)",
      "\u001b[0;32m<ipython-input-65-73040b68a51f>\u001b[0m in \u001b[0;36m<module>\u001b[0;34m()\u001b[0m\n\u001b[0;32m----> 1\u001b[0;31m \u001b[0mdf3\u001b[0m\u001b[0;34m.\u001b[0m\u001b[0msort_values\u001b[0m\u001b[0;34m(\u001b[0m\u001b[0;34m'proba'\u001b[0m\u001b[0;34m)\u001b[0m\u001b[0;34m.\u001b[0m\u001b[0mplot\u001b[0m\u001b[0;34m(\u001b[0m\u001b[0;34m\"index\"\u001b[0m\u001b[0;34m,\u001b[0m \u001b[0;34m\"proba\"\u001b[0m\u001b[0;34m)\u001b[0m\u001b[0;34m\u001b[0m\u001b[0m\n\u001b[0m",
      "\u001b[0;32m/anaconda3/lib/python3.6/site-packages/pandas/core/frame.py\u001b[0m in \u001b[0;36msort_values\u001b[0;34m(self, by, axis, ascending, inplace, kind, na_position)\u001b[0m\n\u001b[1;32m   3184\u001b[0m \u001b[0;34m\u001b[0m\u001b[0m\n\u001b[1;32m   3185\u001b[0m             \u001b[0mby\u001b[0m \u001b[0;34m=\u001b[0m \u001b[0mby\u001b[0m\u001b[0;34m[\u001b[0m\u001b[0;36m0\u001b[0m\u001b[0;34m]\u001b[0m\u001b[0;34m\u001b[0m\u001b[0m\n\u001b[0;32m-> 3186\u001b[0;31m             \u001b[0mk\u001b[0m \u001b[0;34m=\u001b[0m \u001b[0mself\u001b[0m\u001b[0;34m.\u001b[0m\u001b[0mxs\u001b[0m\u001b[0;34m(\u001b[0m\u001b[0mby\u001b[0m\u001b[0;34m,\u001b[0m \u001b[0maxis\u001b[0m\u001b[0;34m=\u001b[0m\u001b[0mother_axis\u001b[0m\u001b[0;34m)\u001b[0m\u001b[0;34m.\u001b[0m\u001b[0mvalues\u001b[0m\u001b[0;34m\u001b[0m\u001b[0m\n\u001b[0m\u001b[1;32m   3187\u001b[0m             \u001b[0;32mif\u001b[0m \u001b[0mk\u001b[0m\u001b[0;34m.\u001b[0m\u001b[0mndim\u001b[0m \u001b[0;34m==\u001b[0m \u001b[0;36m2\u001b[0m\u001b[0;34m:\u001b[0m\u001b[0;34m\u001b[0m\u001b[0m\n\u001b[1;32m   3188\u001b[0m \u001b[0;34m\u001b[0m\u001b[0m\n",
      "\u001b[0;32m/anaconda3/lib/python3.6/site-packages/pandas/core/generic.py\u001b[0m in \u001b[0;36mxs\u001b[0;34m(self, key, axis, level, drop_level)\u001b[0m\n\u001b[1;32m   2021\u001b[0m \u001b[0;34m\u001b[0m\u001b[0m\n\u001b[1;32m   2022\u001b[0m         \u001b[0;32mif\u001b[0m \u001b[0maxis\u001b[0m \u001b[0;34m==\u001b[0m \u001b[0;36m1\u001b[0m\u001b[0;34m:\u001b[0m\u001b[0;34m\u001b[0m\u001b[0m\n\u001b[0;32m-> 2023\u001b[0;31m             \u001b[0;32mreturn\u001b[0m \u001b[0mself\u001b[0m\u001b[0;34m[\u001b[0m\u001b[0mkey\u001b[0m\u001b[0;34m]\u001b[0m\u001b[0;34m\u001b[0m\u001b[0m\n\u001b[0m\u001b[1;32m   2024\u001b[0m \u001b[0;34m\u001b[0m\u001b[0m\n\u001b[1;32m   2025\u001b[0m         \u001b[0mself\u001b[0m\u001b[0;34m.\u001b[0m\u001b[0m_consolidate_inplace\u001b[0m\u001b[0;34m(\u001b[0m\u001b[0;34m)\u001b[0m\u001b[0;34m\u001b[0m\u001b[0m\n",
      "\u001b[0;32m/anaconda3/lib/python3.6/site-packages/pandas/core/frame.py\u001b[0m in \u001b[0;36m__getitem__\u001b[0;34m(self, key)\u001b[0m\n\u001b[1;32m   1962\u001b[0m             \u001b[0;32mreturn\u001b[0m \u001b[0mself\u001b[0m\u001b[0;34m.\u001b[0m\u001b[0m_getitem_multilevel\u001b[0m\u001b[0;34m(\u001b[0m\u001b[0mkey\u001b[0m\u001b[0;34m)\u001b[0m\u001b[0;34m\u001b[0m\u001b[0m\n\u001b[1;32m   1963\u001b[0m         \u001b[0;32melse\u001b[0m\u001b[0;34m:\u001b[0m\u001b[0;34m\u001b[0m\u001b[0m\n\u001b[0;32m-> 1964\u001b[0;31m             \u001b[0;32mreturn\u001b[0m \u001b[0mself\u001b[0m\u001b[0;34m.\u001b[0m\u001b[0m_getitem_column\u001b[0m\u001b[0;34m(\u001b[0m\u001b[0mkey\u001b[0m\u001b[0;34m)\u001b[0m\u001b[0;34m\u001b[0m\u001b[0m\n\u001b[0m\u001b[1;32m   1965\u001b[0m \u001b[0;34m\u001b[0m\u001b[0m\n\u001b[1;32m   1966\u001b[0m     \u001b[0;32mdef\u001b[0m \u001b[0m_getitem_column\u001b[0m\u001b[0;34m(\u001b[0m\u001b[0mself\u001b[0m\u001b[0;34m,\u001b[0m \u001b[0mkey\u001b[0m\u001b[0;34m)\u001b[0m\u001b[0;34m:\u001b[0m\u001b[0;34m\u001b[0m\u001b[0m\n",
      "\u001b[0;32m/anaconda3/lib/python3.6/site-packages/pandas/core/frame.py\u001b[0m in \u001b[0;36m_getitem_column\u001b[0;34m(self, key)\u001b[0m\n\u001b[1;32m   1969\u001b[0m         \u001b[0;31m# get column\u001b[0m\u001b[0;34m\u001b[0m\u001b[0;34m\u001b[0m\u001b[0m\n\u001b[1;32m   1970\u001b[0m         \u001b[0;32mif\u001b[0m \u001b[0mself\u001b[0m\u001b[0;34m.\u001b[0m\u001b[0mcolumns\u001b[0m\u001b[0;34m.\u001b[0m\u001b[0mis_unique\u001b[0m\u001b[0;34m:\u001b[0m\u001b[0;34m\u001b[0m\u001b[0m\n\u001b[0;32m-> 1971\u001b[0;31m             \u001b[0;32mreturn\u001b[0m \u001b[0mself\u001b[0m\u001b[0;34m.\u001b[0m\u001b[0m_get_item_cache\u001b[0m\u001b[0;34m(\u001b[0m\u001b[0mkey\u001b[0m\u001b[0;34m)\u001b[0m\u001b[0;34m\u001b[0m\u001b[0m\n\u001b[0m\u001b[1;32m   1972\u001b[0m \u001b[0;34m\u001b[0m\u001b[0m\n\u001b[1;32m   1973\u001b[0m         \u001b[0;31m# duplicate columns & possible reduce dimensionality\u001b[0m\u001b[0;34m\u001b[0m\u001b[0;34m\u001b[0m\u001b[0m\n",
      "\u001b[0;32m/anaconda3/lib/python3.6/site-packages/pandas/core/generic.py\u001b[0m in \u001b[0;36m_get_item_cache\u001b[0;34m(self, item)\u001b[0m\n\u001b[1;32m   1643\u001b[0m         \u001b[0mres\u001b[0m \u001b[0;34m=\u001b[0m \u001b[0mcache\u001b[0m\u001b[0;34m.\u001b[0m\u001b[0mget\u001b[0m\u001b[0;34m(\u001b[0m\u001b[0mitem\u001b[0m\u001b[0;34m)\u001b[0m\u001b[0;34m\u001b[0m\u001b[0m\n\u001b[1;32m   1644\u001b[0m         \u001b[0;32mif\u001b[0m \u001b[0mres\u001b[0m \u001b[0;32mis\u001b[0m \u001b[0;32mNone\u001b[0m\u001b[0;34m:\u001b[0m\u001b[0;34m\u001b[0m\u001b[0m\n\u001b[0;32m-> 1645\u001b[0;31m             \u001b[0mvalues\u001b[0m \u001b[0;34m=\u001b[0m \u001b[0mself\u001b[0m\u001b[0;34m.\u001b[0m\u001b[0m_data\u001b[0m\u001b[0;34m.\u001b[0m\u001b[0mget\u001b[0m\u001b[0;34m(\u001b[0m\u001b[0mitem\u001b[0m\u001b[0;34m)\u001b[0m\u001b[0;34m\u001b[0m\u001b[0m\n\u001b[0m\u001b[1;32m   1646\u001b[0m             \u001b[0mres\u001b[0m \u001b[0;34m=\u001b[0m \u001b[0mself\u001b[0m\u001b[0;34m.\u001b[0m\u001b[0m_box_item_values\u001b[0m\u001b[0;34m(\u001b[0m\u001b[0mitem\u001b[0m\u001b[0;34m,\u001b[0m \u001b[0mvalues\u001b[0m\u001b[0;34m)\u001b[0m\u001b[0;34m\u001b[0m\u001b[0m\n\u001b[1;32m   1647\u001b[0m             \u001b[0mcache\u001b[0m\u001b[0;34m[\u001b[0m\u001b[0mitem\u001b[0m\u001b[0;34m]\u001b[0m \u001b[0;34m=\u001b[0m \u001b[0mres\u001b[0m\u001b[0;34m\u001b[0m\u001b[0m\n",
      "\u001b[0;32m/anaconda3/lib/python3.6/site-packages/pandas/core/internals.py\u001b[0m in \u001b[0;36mget\u001b[0;34m(self, item, fastpath)\u001b[0m\n\u001b[1;32m   3588\u001b[0m \u001b[0;34m\u001b[0m\u001b[0m\n\u001b[1;32m   3589\u001b[0m             \u001b[0;32mif\u001b[0m \u001b[0;32mnot\u001b[0m \u001b[0misnull\u001b[0m\u001b[0;34m(\u001b[0m\u001b[0mitem\u001b[0m\u001b[0;34m)\u001b[0m\u001b[0;34m:\u001b[0m\u001b[0;34m\u001b[0m\u001b[0m\n\u001b[0;32m-> 3590\u001b[0;31m                 \u001b[0mloc\u001b[0m \u001b[0;34m=\u001b[0m \u001b[0mself\u001b[0m\u001b[0;34m.\u001b[0m\u001b[0mitems\u001b[0m\u001b[0;34m.\u001b[0m\u001b[0mget_loc\u001b[0m\u001b[0;34m(\u001b[0m\u001b[0mitem\u001b[0m\u001b[0;34m)\u001b[0m\u001b[0;34m\u001b[0m\u001b[0m\n\u001b[0m\u001b[1;32m   3591\u001b[0m             \u001b[0;32melse\u001b[0m\u001b[0;34m:\u001b[0m\u001b[0;34m\u001b[0m\u001b[0m\n\u001b[1;32m   3592\u001b[0m                 \u001b[0mindexer\u001b[0m \u001b[0;34m=\u001b[0m \u001b[0mnp\u001b[0m\u001b[0;34m.\u001b[0m\u001b[0marange\u001b[0m\u001b[0;34m(\u001b[0m\u001b[0mlen\u001b[0m\u001b[0;34m(\u001b[0m\u001b[0mself\u001b[0m\u001b[0;34m.\u001b[0m\u001b[0mitems\u001b[0m\u001b[0;34m)\u001b[0m\u001b[0;34m)\u001b[0m\u001b[0;34m[\u001b[0m\u001b[0misnull\u001b[0m\u001b[0;34m(\u001b[0m\u001b[0mself\u001b[0m\u001b[0;34m.\u001b[0m\u001b[0mitems\u001b[0m\u001b[0;34m)\u001b[0m\u001b[0;34m]\u001b[0m\u001b[0;34m\u001b[0m\u001b[0m\n",
      "\u001b[0;32m/anaconda3/lib/python3.6/site-packages/pandas/core/indexes/base.py\u001b[0m in \u001b[0;36mget_loc\u001b[0;34m(self, key, method, tolerance)\u001b[0m\n\u001b[1;32m   2442\u001b[0m                 \u001b[0;32mreturn\u001b[0m \u001b[0mself\u001b[0m\u001b[0;34m.\u001b[0m\u001b[0m_engine\u001b[0m\u001b[0;34m.\u001b[0m\u001b[0mget_loc\u001b[0m\u001b[0;34m(\u001b[0m\u001b[0mkey\u001b[0m\u001b[0;34m)\u001b[0m\u001b[0;34m\u001b[0m\u001b[0m\n\u001b[1;32m   2443\u001b[0m             \u001b[0;32mexcept\u001b[0m \u001b[0mKeyError\u001b[0m\u001b[0;34m:\u001b[0m\u001b[0;34m\u001b[0m\u001b[0m\n\u001b[0;32m-> 2444\u001b[0;31m                 \u001b[0;32mreturn\u001b[0m \u001b[0mself\u001b[0m\u001b[0;34m.\u001b[0m\u001b[0m_engine\u001b[0m\u001b[0;34m.\u001b[0m\u001b[0mget_loc\u001b[0m\u001b[0;34m(\u001b[0m\u001b[0mself\u001b[0m\u001b[0;34m.\u001b[0m\u001b[0m_maybe_cast_indexer\u001b[0m\u001b[0;34m(\u001b[0m\u001b[0mkey\u001b[0m\u001b[0;34m)\u001b[0m\u001b[0;34m)\u001b[0m\u001b[0;34m\u001b[0m\u001b[0m\n\u001b[0m\u001b[1;32m   2445\u001b[0m \u001b[0;34m\u001b[0m\u001b[0m\n\u001b[1;32m   2446\u001b[0m         \u001b[0mindexer\u001b[0m \u001b[0;34m=\u001b[0m \u001b[0mself\u001b[0m\u001b[0;34m.\u001b[0m\u001b[0mget_indexer\u001b[0m\u001b[0;34m(\u001b[0m\u001b[0;34m[\u001b[0m\u001b[0mkey\u001b[0m\u001b[0;34m]\u001b[0m\u001b[0;34m,\u001b[0m \u001b[0mmethod\u001b[0m\u001b[0;34m=\u001b[0m\u001b[0mmethod\u001b[0m\u001b[0;34m,\u001b[0m \u001b[0mtolerance\u001b[0m\u001b[0;34m=\u001b[0m\u001b[0mtolerance\u001b[0m\u001b[0;34m)\u001b[0m\u001b[0;34m\u001b[0m\u001b[0m\n",
      "\u001b[0;32mpandas/_libs/index.pyx\u001b[0m in \u001b[0;36mpandas._libs.index.IndexEngine.get_loc\u001b[0;34m()\u001b[0m\n",
      "\u001b[0;32mpandas/_libs/index.pyx\u001b[0m in \u001b[0;36mpandas._libs.index.IndexEngine.get_loc\u001b[0;34m()\u001b[0m\n",
      "\u001b[0;32mpandas/_libs/hashtable_class_helper.pxi\u001b[0m in \u001b[0;36mpandas._libs.hashtable.PyObjectHashTable.get_item\u001b[0;34m()\u001b[0m\n",
      "\u001b[0;32mpandas/_libs/hashtable_class_helper.pxi\u001b[0m in \u001b[0;36mpandas._libs.hashtable.PyObjectHashTable.get_item\u001b[0;34m()\u001b[0m\n",
      "\u001b[0;31mKeyError\u001b[0m: 'proba'"
     ]
    }
   ],
   "source": [
    "df3.sort_values('proba').plot(\"index\", \"proba\")"
   ]
  },
  {
   "cell_type": "code",
   "execution_count": 66,
   "metadata": {},
   "outputs": [
    {
     "data": {
      "text/plain": [
       "0.9950193312688701"
      ]
     },
     "execution_count": 66,
     "metadata": {},
     "output_type": "execute_result"
    }
   ],
   "source": [
    "expit(5.297198)"
   ]
  },
  {
   "cell_type": "code",
   "execution_count": 67,
   "metadata": {},
   "outputs": [
    {
     "data": {
      "text/plain": [
       "0.0035714195936755733"
      ]
     },
     "execution_count": 67,
     "metadata": {},
     "output_type": "execute_result"
    }
   ],
   "source": [
    "expit(5.297198+1.266090)-0.9950193312688701"
   ]
  },
  {
   "cell_type": "code",
   "execution_count": 68,
   "metadata": {},
   "outputs": [
    {
     "data": {
      "text/plain": [
       "0.7800726857136162"
      ]
     },
     "execution_count": 68,
     "metadata": {},
     "output_type": "execute_result"
    }
   ],
   "source": [
    "expit(1.266090)"
   ]
  },
  {
   "cell_type": "code",
   "execution_count": null,
   "metadata": {},
   "outputs": [],
   "source": []
  },
  {
   "cell_type": "code",
   "execution_count": 69,
   "metadata": {},
   "outputs": [
    {
     "data": {
      "text/plain": [
       "0.9997831810109253"
      ]
     },
     "execution_count": 69,
     "metadata": {},
     "output_type": "execute_result"
    }
   ],
   "source": [
    "expit(sum(df3.contrib.values*-1))"
   ]
  },
  {
   "cell_type": "markdown",
   "metadata": {},
   "source": [
    "### Stump"
   ]
  },
  {
   "cell_type": "code",
   "execution_count": null,
   "metadata": {},
   "outputs": [],
   "source": []
  },
  {
   "cell_type": "markdown",
   "metadata": {},
   "source": [
    "# Random ordering of contributions"
   ]
  },
  {
   "cell_type": "code",
   "execution_count": 70,
   "metadata": {},
   "outputs": [],
   "source": [
    "from random import sample"
   ]
  },
  {
   "cell_type": "code",
   "execution_count": 114,
   "metadata": {},
   "outputs": [],
   "source": [
    "from random import shuffle\n",
    "x = list(range(test.size))\n",
    "testVals = -1.0 * df3.contrib.values\n",
    "contrib0 = np.zeros(len(x))\n",
    "contrib1 = np.zeros(len(x))\n",
    "contrib2 = np.zeros(len(x))\n",
    "contrib3 = np.zeros(len(x))\n",
    "contrib4 = np.zeros(len(x))\n"
   ]
  },
  {
   "cell_type": "code",
   "execution_count": 222,
   "metadata": {},
   "outputs": [],
   "source": [
    "contrib0 = np.zeros(len(x))\n",
    "\n",
    "for ii in range(30):\n",
    "    y = sample(x, len(x))\n",
    "    sumContrib = -1.0 * gbt_bin_clf_bias[7] + logit(1.0 - y_train_c.mean())\n",
    "    prevVal = expit(sumContrib)\n",
    "    for jj in y:\n",
    "        sumContrib +=  testVals[jj]\n",
    "        val = expit(sumContrib) - prevVal\n",
    "        prevVal = expit(sumContrib) \n",
    "        contrib0[jj]+=val\n",
    "    "
   ]
  },
  {
   "cell_type": "code",
   "execution_count": 223,
   "metadata": {},
   "outputs": [],
   "source": [
    "contrib1 = np.zeros(len(x))\n",
    "\n",
    "for ii in range(60):\n",
    "    y = sample(x, len(x))\n",
    "    sumContrib = -1.0 * gbt_bin_clf_bias[7] + logit(1.0 - y_train_c.mean())\n",
    "    prevVal = expit(sumContrib)\n",
    "    for jj in y:\n",
    "        sumContrib +=  testVals[jj]\n",
    "        val = expit(sumContrib) - prevVal\n",
    "        prevVal = expit(sumContrib) \n",
    "        contrib1[jj]+=val"
   ]
  },
  {
   "cell_type": "code",
   "execution_count": 224,
   "metadata": {},
   "outputs": [],
   "source": [
    "contrib2 = np.zeros(len(x))\n",
    "\n",
    "for ii in range(900):\n",
    "    y = sample(x, len(x))\n",
    "    sumContrib = -1.0 * gbt_bin_clf_bias[7] + logit(1.0 - y_train_c.mean())\n",
    "    prevVal = expit(sumContrib)\n",
    "    for jj in y:\n",
    "        sumContrib +=  testVals[jj]\n",
    "        val = expit(sumContrib) - prevVal\n",
    "        prevVal = expit(sumContrib) \n",
    "        contrib2[jj]+=val"
   ]
  },
  {
   "cell_type": "code",
   "execution_count": 118,
   "metadata": {},
   "outputs": [],
   "source": [
    "df3['proba']=(contrib2/900)"
   ]
  },
  {
   "cell_type": "code",
   "execution_count": 119,
   "metadata": {},
   "outputs": [
    {
     "data": {
      "text/plain": [
       "array([1.07983879e-03, 1.10731945e-03, 0.00000000e+00, 0.00000000e+00,\n",
       "       6.54157433e-04, 4.23813347e-05, 9.45148156e-05, 6.59992881e-03,\n",
       "       4.39991678e-05, 5.81052289e-05, 5.55844267e-03, 4.37140132e-04,\n",
       "       3.98380282e-04, 5.71961507e-03, 5.96510363e-05, 1.90395436e-03,\n",
       "       1.14801982e-04, 2.95056477e-03, 1.00600201e-04, 3.99312699e-04,\n",
       "       4.37926863e-03, 1.29870078e-02, 9.78199291e-02, 8.18879533e-03,\n",
       "       6.70951794e-04, 1.14183097e-03, 5.32463801e-04, 1.12680232e-02,\n",
       "       1.68902119e-03, 0.00000000e+00])"
      ]
     },
     "execution_count": 119,
     "metadata": {},
     "output_type": "execute_result"
    }
   ],
   "source": [
    "gbt_bin_clf.feature_importances_"
   ]
  },
  {
   "cell_type": "code",
   "execution_count": 225,
   "metadata": {},
   "outputs": [],
   "source": [
    "contrib3 = np.zeros(len(x))\n",
    "\n",
    "for ii in range(100000):\n",
    "    y = sample(x, len(x))\n",
    "    sumContrib = -1.0 * gbt_bin_clf_bias[7] + logit(1.0 - y_train_c.mean())\n",
    "    prevVal = expit(sumContrib)\n",
    "    #print(sumContrib)\n",
    "    #print(prevVal)\n",
    "    for jj in y:\n",
    "        sumContrib +=  testVals[jj]\n",
    "        val = expit(sumContrib) - prevVal\n",
    "        prevVal = expit(sumContrib) \n",
    "        contrib3[jj]+=val"
   ]
  },
  {
   "cell_type": "code",
   "execution_count": 201,
   "metadata": {},
   "outputs": [
    {
     "data": {
      "text/plain": [
       "0.2605305124683878"
      ]
     },
     "execution_count": 201,
     "metadata": {},
     "output_type": "execute_result"
    }
   ],
   "source": [
    "np.sum(contrib3)/100000+0.3713495468645612"
   ]
  },
  {
   "cell_type": "code",
   "execution_count": 209,
   "metadata": {},
   "outputs": [
    {
     "name": "stdout",
     "output_type": "stream",
     "text": [
      "-0.5264315899697126\n",
      "0.3713495468645612\n"
     ]
    }
   ],
   "source": []
  },
  {
   "cell_type": "code",
   "execution_count": 226,
   "metadata": {},
   "outputs": [],
   "source": [
    "contrib4 = np.zeros(len(x))\n",
    "\n",
    "for ii in range(400000):\n",
    "    y = sample(x, len(x))\n",
    "    sumContrib = -1.0 * gbt_bin_clf_bias[7] + logit(1.0 - y_train_c.mean())\n",
    "    prevVal = expit(sumContrib)\n",
    "    #print(sumContrib)\n",
    "    #print(prevVal)\n",
    "    for jj in y:\n",
    "        sumContrib +=  testVals[jj]\n",
    "        val = expit(sumContrib) - prevVal\n",
    "        prevVal = expit(sumContrib) \n",
    "        contrib4[jj]+=val"
   ]
  },
  {
   "cell_type": "code",
   "execution_count": 218,
   "metadata": {},
   "outputs": [
    {
     "name": "stdout",
     "output_type": "stream",
     "text": [
      "2.220446049250313e-16\n",
      "3.885780586188048e-16\n",
      "1.5543122344752192e-15\n",
      "-6.566969190657801e-14\n",
      "-4.785616347646737e-13\n"
     ]
    }
   ],
   "source": [
    "sumContrib = -1.0 * gbt_bin_clf_bias[7] + logit(1.0 - y_train_c.mean())\n",
    "prevVal = expit(sumContrib)\n",
    "print(np.sum(contrib0/30) + prevVal - gbt_bin_clf_orig_proba[idxTest][0])\n",
    "print(np.sum(contrib1/60) + prevVal - gbt_bin_clf_orig_proba[idxTest][0])\n",
    "print(np.sum(contrib2/900) + prevVal - gbt_bin_clf_orig_proba[idxTest][0])\n",
    "print(np.sum(contrib3/100000) + prevVal - gbt_bin_clf_orig_proba[idxTest][0])\n",
    "print(np.sum(contrib4/400000) + prevVal - gbt_bin_clf_orig_proba[idxTest][0])"
   ]
  },
  {
   "cell_type": "code",
   "execution_count": 205,
   "metadata": {},
   "outputs": [
    {
     "data": {
      "text/plain": [
       "-0.11081903439658625"
      ]
     },
     "execution_count": 205,
     "metadata": {},
     "output_type": "execute_result"
    }
   ],
   "source": []
  },
  {
   "cell_type": "code",
   "execution_count": 148,
   "metadata": {},
   "outputs": [
    {
     "data": {
      "text/plain": [
       "0.526522292405387"
      ]
     },
     "execution_count": 148,
     "metadata": {},
     "output_type": "execute_result"
    }
   ],
   "source": [
    "gbt_bin_clf_pred[idxTest]\n"
   ]
  },
  {
   "cell_type": "code",
   "execution_count": 132,
   "metadata": {},
   "outputs": [
    {
     "name": "stdout",
     "output_type": "stream",
     "text": [
      "         y_mean: 0.6263736263736264\n",
      "  logit(y_mean): 0.5166907432183888\n",
      "          pred2: 0.526522292405387\n",
      "          origP: 0.2605305124684535\n",
      "        1-origP: 0.7394694875315465\n",
      "         calcP : 0.2605305124684538\n",
      "logit(calcProb): -1.0432130356237759\n",
      "    sum contrib: 0.5167814456540628\n",
      "           bias: 0.009740846751323844\n",
      "sum contrib + b: 0.5265222924053866\n",
      "          Label: 0\n",
      "sum(contrib) + b = prediction\n",
      "expit( prediction + logit(y_mean)) = proba\n"
     ]
    }
   ],
   "source": [
    "idxTest = 7\n",
    "calcProba = 1.0 - expit((gbt_bin_clf_pred[idxTest] + logit(y_train_c.mean())))\n",
    "\n",
    "print(\"         y_mean: \" + str(y_train_c.mean()))\n",
    "print(\"  logit(y_mean): \" + str(logit(y_train_c.mean())))\n",
    "print(\"          pred2: \" + str(gbt_bin_clf_pred[idxTest]))\n",
    "print(\"          origP: \" + str(gbt_bin_clf_orig_proba[idxTest][0]))\n",
    "print(\"        1-origP: \" + str(gbt_bin_clf_orig_proba[idxTest][1]))\n",
    "print(\"         calcP : \" + str(calcProba))\n",
    "print(\"logit(calcProb): \" + str(logit(calcProba)))\n",
    "#print(gbt_bin_clf_contrib[0])\n",
    "print(\"    sum contrib: \" + str(gbt_bin_clf_contrib[idxTest].sum()))\n",
    "print(\"           bias: \" + str(gbt_bin_clf_bias[idxTest]))\n",
    "print(\"sum contrib + b: \" + str(gbt_bin_clf_contrib[idxTest].sum() + gbt_bin_clf_bias[0]))\n",
    "print(\"          Label: \" + str(y_test_c[idxTest]))\n",
    "\n",
    "print(\"sum(contrib) + b = prediction\")\n",
    "print(\"expit( prediction + logit(y_mean)) = proba\")"
   ]
  },
  {
   "cell_type": "code",
   "execution_count": 180,
   "metadata": {},
   "outputs": [],
   "source": [
    "myPrediction = df3.contrib.values.sum() + gbt_bin_clf_bias[0]"
   ]
  },
  {
   "cell_type": "code",
   "execution_count": 181,
   "metadata": {},
   "outputs": [
    {
     "data": {
      "text/plain": [
       "0.2605305124684539"
      ]
     },
     "execution_count": 181,
     "metadata": {},
     "output_type": "execute_result"
    }
   ],
   "source": [
    "expit(-1.0 * myPrediction + logit(1.0 - y_train_c.mean()))"
   ]
  },
  {
   "cell_type": "code",
   "execution_count": 185,
   "metadata": {},
   "outputs": [
    {
     "data": {
      "text/plain": [
       "0.2605305124684539"
      ]
     },
     "execution_count": 185,
     "metadata": {},
     "output_type": "execute_result"
    }
   ],
   "source": [
    "expit(-1.0*df3.contrib.values.sum() - gbt_bin_clf_bias[7] + logit(1.0 - y_train_c.mean()))"
   ]
  },
  {
   "cell_type": "code",
   "execution_count": 138,
   "metadata": {},
   "outputs": [
    {
     "data": {
      "text/plain": [
       "0.25811712100571244"
      ]
     },
     "execution_count": 138,
     "metadata": {},
     "output_type": "execute_result"
    }
   ],
   "source": [
    "prevVal"
   ]
  },
  {
   "cell_type": "code",
   "execution_count": 121,
   "metadata": {},
   "outputs": [
    {
     "ename": "IndentationError",
     "evalue": "unexpected indent (<ipython-input-121-ad2bbad905e2>, line 2)",
     "output_type": "error",
     "traceback": [
      "\u001b[0;36m  File \u001b[0;32m\"<ipython-input-121-ad2bbad905e2>\"\u001b[0;36m, line \u001b[0;32m2\u001b[0m\n\u001b[0;31m    y = sample(x, len(x))\u001b[0m\n\u001b[0m    ^\u001b[0m\n\u001b[0;31mIndentationError\u001b[0m\u001b[0;31m:\u001b[0m unexpected indent\n"
     ]
    }
   ],
   "source": []
  },
  {
   "cell_type": "code",
   "execution_count": 230,
   "metadata": {},
   "outputs": [
    {
     "name": "stdout",
     "output_type": "stream",
     "text": [
      "[ 0.00000000e+00  0.00000000e+00  0.00000000e+00  0.00000000e+00\n",
      "  0.00000000e+00  0.00000000e+00  0.00000000e+00  0.00000000e+00\n",
      "  0.00000000e+00  0.00000000e+00  0.00000000e+00  0.00000000e+00\n",
      "  0.00000000e+00  0.00000000e+00  0.00000000e+00  6.30623128e-06\n",
      " -1.00560412e-05  8.92625706e-06 -8.74009934e-03  1.09737119e-02\n",
      " -1.60899594e-02  2.33840211e-02  2.93698836e-02  3.65336461e-02\n",
      "  4.22798397e-02  1.03534283e-01  1.08606533e-01 -3.74595738e-01\n",
      "  3.11573526e-01 -3.77653859e-01]\n",
      "[ 0.00000000e+00  0.00000000e+00  0.00000000e+00  0.00000000e+00\n",
      "  0.00000000e+00  0.00000000e+00  0.00000000e+00  0.00000000e+00\n",
      "  0.00000000e+00  0.00000000e+00  0.00000000e+00  0.00000000e+00\n",
      "  0.00000000e+00  0.00000000e+00  0.00000000e+00  6.22390536e-06\n",
      " -9.08322172e-06  9.91616470e-06 -8.52136808e-03  9.90226058e-03\n",
      " -1.59578330e-02  2.67222692e-02  3.01546846e-02  3.17584722e-02\n",
      "  3.85452826e-02  1.03423280e-01  1.21034295e-01 -3.13406924e-01\n",
      "  3.15478396e-01 -4.49958908e-01]\n",
      "[ 0.00000000e+00  0.00000000e+00  0.00000000e+00  0.00000000e+00\n",
      "  0.00000000e+00  0.00000000e+00  0.00000000e+00  0.00000000e+00\n",
      "  0.00000000e+00  0.00000000e+00  0.00000000e+00  0.00000000e+00\n",
      "  0.00000000e+00  0.00000000e+00  0.00000000e+00  5.91722190e-06\n",
      " -9.27646838e-06  1.03294577e-05 -8.65728709e-03  1.03866208e-02\n",
      " -1.56603918e-02  2.69533938e-02  2.92298863e-02  3.15551329e-02\n",
      "  4.14364393e-02  1.04642795e-01  1.15814155e-01 -3.12420532e-01\n",
      "  3.07344632e-01 -4.41450849e-01]\n",
      "[ 0.00000000e+00  0.00000000e+00  0.00000000e+00  0.00000000e+00\n",
      "  0.00000000e+00  0.00000000e+00  0.00000000e+00  0.00000000e+00\n",
      "  0.00000000e+00  0.00000000e+00  0.00000000e+00  0.00000000e+00\n",
      "  0.00000000e+00  0.00000000e+00  0.00000000e+00  5.86003240e-06\n",
      " -9.12799289e-06  1.00132562e-05 -8.54238634e-03  1.04396770e-02\n",
      " -1.60607973e-02  2.69338064e-02  2.91519171e-02  3.15210637e-02\n",
      "  4.07362261e-02  1.08193166e-01  1.15469037e-01 -3.17598757e-01\n",
      "  3.03881871e-01 -4.34950602e-01]\n",
      "[ 0.00000000e+00  0.00000000e+00  0.00000000e+00  0.00000000e+00\n",
      "  0.00000000e+00  0.00000000e+00  0.00000000e+00  0.00000000e+00\n",
      "  0.00000000e+00  0.00000000e+00  0.00000000e+00  0.00000000e+00\n",
      "  0.00000000e+00  0.00000000e+00  0.00000000e+00  5.87942926e-06\n",
      " -9.14869122e-06  1.00477827e-05 -8.55583495e-03  1.04416117e-02\n",
      " -1.60726518e-02  2.70226929e-02  2.91961195e-02  3.15717823e-02\n",
      "  4.07371035e-02  1.08211783e-01  1.15707175e-01 -3.17916724e-01\n",
      "  3.04611268e-01 -4.35780138e-01]\n"
     ]
    }
   ],
   "source": [
    "print(contrib0/30)\n",
    "print(contrib1/60)\n",
    "print(contrib2/900)\n",
    "print(contrib3/100000)\n",
    "print(contrib4/400000)\n"
   ]
  },
  {
   "cell_type": "code",
   "execution_count": 234,
   "metadata": {},
   "outputs": [
    {
     "data": {
      "text/plain": [
       "[<matplotlib.lines.Line2D at 0x1a0ce26ba8>]"
      ]
     },
     "execution_count": 234,
     "metadata": {},
     "output_type": "execute_result"
    },
    {
     "data": {
      "image/png": "[encoded data removed]",
      "text/plain": [
       "<matplotlib.figure.Figure at 0x1a0d17f390>"
      ]
     },
     "metadata": {},
     "output_type": "display_data"
    }
   ],
   "source": [
    "plt.plot(contrib0/30)\n",
    "plt.plot(contrib1/60)\n",
    "plt.plot(contrib2/900)"
   ]
  },
  {
   "cell_type": "code",
   "execution_count": 232,
   "metadata": {},
   "outputs": [
    {
     "data": {
      "text/plain": [
       "[<matplotlib.lines.Line2D at 0x1a0cbc6860>]"
      ]
     },
     "execution_count": 232,
     "metadata": {},
     "output_type": "execute_result"
    },
    {
     "data": {
      "image/png": "[encoded data removed]",
      "text/plain": [
       "<matplotlib.figure.Figure at 0x1a0d0219e8>"
      ]
     },
     "metadata": {},
     "output_type": "display_data"
    }
   ],
   "source": [
    "plt.plot(contrib2/900)\n",
    "plt.plot(contrib3/100000)\n",
    "plt.plot(contrib4/400000)\n"
   ]
  },
  {
   "cell_type": "code",
   "execution_count": 125,
   "metadata": {},
   "outputs": [
    {
     "data": {
      "text/plain": [
       "-0.12602541198987977"
      ]
     },
     "execution_count": 125,
     "metadata": {},
     "output_type": "execute_result"
    }
   ],
   "source": [
    "np.sum(contrib3/100000.0)"
   ]
  },
  {
   "cell_type": "code",
   "execution_count": 128,
   "metadata": {},
   "outputs": [
    {
     "data": {
      "text/plain": [
       "0.5389965007326868"
      ]
     },
     "execution_count": 128,
     "metadata": {},
     "output_type": "execute_result"
    }
   ],
   "source": [
    "logit(y_test_c.mean())"
   ]
  },
  {
   "cell_type": "code",
   "execution_count": 130,
   "metadata": {},
   "outputs": [
    {
     "data": {
      "text/plain": [
       "0.6018000757676194"
      ]
     },
     "execution_count": 130,
     "metadata": {},
     "output_type": "execute_result"
    }
   ],
   "source": []
  },
  {
   "cell_type": "code",
   "execution_count": 81,
   "metadata": {},
   "outputs": [
    {
     "data": {
      "text/plain": [
       "[<matplotlib.lines.Line2D at 0x1a204539b0>]"
      ]
     },
     "execution_count": 81,
     "metadata": {},
     "output_type": "execute_result"
    },
    {
     "data": {
      "image/png": "[encoded data removed]",
      "text/plain": [
       "<matplotlib.figure.Figure at 0x1a2042a6a0>"
      ]
     },
     "metadata": {},
     "output_type": "display_data"
    }
   ],
   "source": [
    "plt.plot(contrib0/30)\n"
   ]
  },
  {
   "cell_type": "code",
   "execution_count": null,
   "metadata": {},
   "outputs": [],
   "source": [
    "plt.plot(contrib1/60)\n"
   ]
  },
  {
   "cell_type": "code",
   "execution_count": null,
   "metadata": {},
   "outputs": [],
   "source": [
    "plt.plot(contrib2/900)\n"
   ]
  },
  {
   "cell_type": "code",
   "execution_count": null,
   "metadata": {},
   "outputs": [],
   "source": [
    "plt.plot((contrib2/900)/(contrib3/8000000))\n",
    "plt.plot((contrib4/4000000)/(contrib3/8000000))\n",
    "\n"
   ]
  },
  {
   "cell_type": "code",
   "execution_count": null,
   "metadata": {},
   "outputs": [],
   "source": [
    "print(\"     30: \" + str(np.sum(contrib0/30)))\n",
    "print(\"     60: \" + str(np.sum(contrib1/60)))\n",
    "print(\"    900: \" + str(np.sum(contrib2/900)))\n",
    "print(\"4000000: \" + str(np.sum(contrib4/4000000)))\n",
    "print(\"8000000: \" + str(np.sum(contrib3/8000000)))\n"
   ]
  },
  {
   "cell_type": "code",
   "execution_count": null,
   "metadata": {},
   "outputs": [],
   "source": [
    "1-expit(gbt_bin_clf_contrib[1].sum()+gbt_bin_clf_bias[1] + logit(y_test_c.mean()))"
   ]
  },
  {
   "cell_type": "code",
   "execution_count": null,
   "metadata": {},
   "outputs": [],
   "source": [
    "gbt_bin_clf_orig_proba[1][0]"
   ]
  },
  {
   "cell_type": "code",
   "execution_count": null,
   "metadata": {},
   "outputs": [],
   "source": [
    "gbt_bin_clf_bias[0]"
   ]
  },
  {
   "cell_type": "code",
   "execution_count": null,
   "metadata": {},
   "outputs": [],
   "source": [
    "def softmax(x):\n",
    "    \"\"\"Compute softmax values for each sets of scores in x.\"\"\"\n",
    "    e_x = np.exp(x - np.max(x))\n",
    "    return e_x / e_x.sum()\n"
   ]
  },
  {
   "cell_type": "code",
   "execution_count": null,
   "metadata": {},
   "outputs": [],
   "source": [
    "softmax(gbt_bin_clf_contrib[1])"
   ]
  },
  {
   "cell_type": "code",
   "execution_count": null,
   "metadata": {},
   "outputs": [],
   "source": [
    "print(logit(y_test_c.mean()))\n",
    "print(y_test_c.mean())"
   ]
  },
  {
   "cell_type": "code",
   "execution_count": null,
   "metadata": {},
   "outputs": [],
   "source": [
    "logit(0.5)"
   ]
  },
  {
   "cell_type": "code",
   "execution_count": null,
   "metadata": {},
   "outputs": [],
   "source": [
    "df3, true_label3, pred3 = plot_obs_feature_contrib(gbt_bin_clf,\n",
    "                                                gbt_bin_clf_contrib,\n",
    "                                                X_test_c,\n",
    "                                                pd.DataFrame(y_test_c,columns=['target']),\n",
    "                                                1,\n",
    "                                                order_by='contribution',\n",
    "                                                num_features=100                                                                \n",
    "                                    )\n",
    "plt.tight_layout()\n",
    "plt.savefig('plots/contribution_plot_gbt_class.png')"
   ]
  },
  {
   "cell_type": "code",
   "execution_count": null,
   "metadata": {},
   "outputs": [],
   "source": []
  },
  {
   "cell_type": "markdown",
   "metadata": {},
   "source": [
    "## Regression Contributions"
   ]
  },
  {
   "cell_type": "code",
   "execution_count": null,
   "metadata": {},
   "outputs": [],
   "source": [
    "idxTest = 1\n",
    "calcProba = 1.0 - expit((gbt_bin_clf_pred[idxTest] + logit(y_train_c.mean())))\n",
    "\n",
    "print(\"         y_mean: \" + str(y_train_c.mean()))\n",
    "print(\"  logit(y_mean): \" + str(logit(y_train_c.mean())))\n",
    "print(\"          pred2: \" + str(gbt_bin_clf_pred[idxTest]))\n",
    "print(\"          origP: \" + str(gbt_bin_clf_orig_proba[idxTest][0]))\n",
    "print(\"         calcP : \" + str(calcProba))\n",
    "print(\"logit(calcProb): \" + str(logit(calcProba)))\n",
    "#print(gbt_bin_clf_contrib[0])\n",
    "print(\"    sum contrib: \" + str(gbt_bin_clf_contrib[idxTest].sum()))\n",
    "print(\"           bias: \" + str(gbt_bin_clf_bias[idxTest]))\n",
    "print(\"sum contrib + b: \" + str(gbt_bin_clf_contrib[idxTest].sum() + gbt_bin_clf_bias[0]))\n",
    "print(\"          Label: \" + str(y_test_c[idxTest]))\n",
    "\n",
    "print(\"sum(contrib) + b = prediction\")\n",
    "print(\"expit( prediction + logit(y_mean)) = proba\")"
   ]
  },
  {
   "cell_type": "code",
   "execution_count": null,
   "metadata": {},
   "outputs": [],
   "source": [
    "gbt_bin_clf_contrib[1]"
   ]
  },
  {
   "cell_type": "code",
   "execution_count": null,
   "metadata": {},
   "outputs": [],
   "source": [
    "gbt_bin_clf_bias[0]"
   ]
  },
  {
   "cell_type": "code",
   "execution_count": null,
   "metadata": {},
   "outputs": [],
   "source": [
    "-1*gbt_bin_clf_contrib[1].sum()"
   ]
  },
  {
   "cell_type": "code",
   "execution_count": null,
   "metadata": {},
   "outputs": [],
   "source": [
    "gbt_bin_clf_bias[0]"
   ]
  },
  {
   "cell_type": "code",
   "execution_count": null,
   "metadata": {},
   "outputs": [],
   "source": [
    "logit(0.9997831810024064)"
   ]
  },
  {
   "cell_type": "code",
   "execution_count": null,
   "metadata": {},
   "outputs": [],
   "source": [
    "foo = gbt_bin_clf_contrib.sum(axis=1)\n",
    "print(foo.shape)\n",
    "print(foo)\n",
    "print(expit(foo[0] - gbt_bin_clf_bias[0]))\n",
    "print(gbt_bin_clf_bias[0])\n",
    "print(logit(gbt_bin_clf_bias[0]))"
   ]
  },
  {
   "cell_type": "code",
   "execution_count": null,
   "metadata": {},
   "outputs": [],
   "source": [
    "rf_bin_clf.predict_proba(X_test_c)"
   ]
  },
  {
   "cell_type": "code",
   "execution_count": null,
   "metadata": {},
   "outputs": [],
   "source": []
  },
  {
   "cell_type": "code",
   "execution_count": null,
   "metadata": {},
   "outputs": [],
   "source": [
    "gbt_bin_clf_contrib[5]"
   ]
  },
  {
   "cell_type": "code",
   "execution_count": null,
   "metadata": {},
   "outputs": [],
   "source": [
    "expit(gbt_bin_clf_contrib[5])"
   ]
  },
  {
   "cell_type": "code",
   "execution_count": null,
   "metadata": {},
   "outputs": [],
   "source": [
    "gbt_bin_clf_bias"
   ]
  },
  {
   "cell_type": "code",
   "execution_count": null,
   "metadata": {},
   "outputs": [],
   "source": []
  },
  {
   "cell_type": "code",
   "execution_count": null,
   "metadata": {},
   "outputs": [],
   "source": [
    "FirstSplit = X_train_c[X_train_c['worst perimeter']<=106.05]"
   ]
  },
  {
   "cell_type": "code",
   "execution_count": null,
   "metadata": {},
   "outputs": [],
   "source": [
    "SecondSplit = FirstSplit[FirstSplit['worst concave points']<=0.16]"
   ]
  },
  {
   "cell_type": "code",
   "execution_count": null,
   "metadata": {},
   "outputs": [],
   "source": [
    "yT = pd.DataFrame(y_train_c,columns=['target'], index=X_train_c.index)"
   ]
  },
  {
   "cell_type": "code",
   "execution_count": null,
   "metadata": {},
   "outputs": [],
   "source": [
    "trueY = pd.DataFrame(gbt_bin_clf.predict(X_train_c), columns=['target'], index=X_train_c.index)"
   ]
  },
  {
   "cell_type": "code",
   "execution_count": null,
   "metadata": {},
   "outputs": [],
   "source": [
    "np.sqrt((yT.loc[FirstSplit.index, 'target'].values-trueY.loc[FirstSplit.index, 'target'].values).sum()**2)/271"
   ]
  },
  {
   "cell_type": "code",
   "execution_count": null,
   "metadata": {},
   "outputs": [],
   "source": [
    "170/285"
   ]
  },
  {
   "cell_type": "code",
   "execution_count": null,
   "metadata": {},
   "outputs": [],
   "source": [
    "yT['target'].value_counts()"
   ]
  },
  {
   "cell_type": "code",
   "execution_count": null,
   "metadata": {},
   "outputs": [],
   "source": [
    "262.0/271.0*np.log(262.0/271.0) + 9./271.0 * np.log(9./271.0)"
   ]
  },
  {
   "cell_type": "code",
   "execution_count": null,
   "metadata": {},
   "outputs": [],
   "source": [
    "expit(0.472)"
   ]
  },
  {
   "cell_type": "code",
   "execution_count": null,
   "metadata": {},
   "outputs": [],
   "source": [
    "ml = 0.967 \n",
    "mr = 0.125\n",
    "diff = ml - mr\n",
    "nl = 271 \n",
    "nr = 184\n",
    "I = nl * nr * diff**2 /(nl + nr)"
   ]
  },
  {
   "cell_type": "code",
   "execution_count": null,
   "metadata": {},
   "outputs": [],
   "source": [
    "gbt_bin_clf.predict_proba(X_test_c)"
   ]
  },
  {
   "cell_type": "code",
   "execution_count": null,
   "metadata": {},
   "outputs": [],
   "source": [
    "mod = gbt_bin_clf.estimators_[0][0]\n",
    "expit(0.1* mod.predict(X_test_c))\n",
    "logit(gbt_bin_clf.predict_proba(X_test_c)[:,1])-(0.1* mod.predict(X_test_c))\n",
    "expit(0.51669074)\n"
   ]
  },
  {
   "cell_type": "code",
   "execution_count": null,
   "metadata": {},
   "outputs": [],
   "source": [
    "gbt_bin_clf.predict_proba(X_test_c)[:,1]- expit(0.1* mod.predict(X_test_c)+0.51669074)"
   ]
  },
  {
   "cell_type": "code",
   "execution_count": null,
   "metadata": {},
   "outputs": [],
   "source": [
    "gbt_clf_dot_data0 = export_graphviz(gbt_bin_clf.estimators_[0][0],\n",
    "                                    out_file=None,\n",
    "                                    feature_names=X_train_c.columns,\n",
    "                                    filled=True, rounded=True,\n",
    "                                    special_characters=True\n",
    "                                    )\n",
    "gbt_clf_graph0 = pydotplus.graph_from_dot_data(gbt_clf_dot_data0)\n",
    "gbt_clf_graph0.write_png('plots/bin_clf_gbt0_path.png')\n",
    "Image(gbt_clf_graph0.create_png())"
   ]
  },
  {
   "cell_type": "code",
   "execution_count": null,
   "metadata": {},
   "outputs": [],
   "source": [
    "gbt_clf_dot_data1 = export_graphviz(gbt_bin_clf.estimators_[1][0],\n",
    "                                    out_file=None,\n",
    "                                    feature_names=X_train_c.columns,\n",
    "                                    filled=True,\n",
    "                                    rounded=True,\n",
    "                                    special_characters=True\n",
    "                                  )\n",
    "gbt_clf_graph1 = pydotplus.graph_from_dot_data(gbt_clf_dot_data1)\n",
    "gbt_clf_graph1.write_png('plots/bin_clf_gbt1_path.png')\n",
    "Image(gbt_clf_graph1.create_png())"
   ]
  },
  {
   "cell_type": "code",
   "execution_count": null,
   "metadata": {},
   "outputs": [],
   "source": [
    "rf_clf_dot_data0 = export_graphviz(rf_bin_clf.estimators_[0],\n",
    "                                   out_file=None,\n",
    "                                   feature_names=X_train_c.columns,\n",
    "                                   filled=True, \n",
    "                                   rounded=True,\n",
    "                                   special_characters=True\n",
    "                                  )\n",
    "rf_clf_graph0 = pydotplus.graph_from_dot_data(rf_clf_dot_data0)\n",
    "rf_clf_graph0.write_png('plots/bin_clf_rf0_path.png')\n",
    "Image(rf_clf_graph0.create_png())"
   ]
  },
  {
   "cell_type": "code",
   "execution_count": null,
   "metadata": {},
   "outputs": [],
   "source": [
    "rf_clf_dot_data1 = export_graphviz(rf_bin_clf.estimators_[1],\n",
    "                                   out_file=None,\n",
    "                                   feature_names=X_train_c.columns,\n",
    "                                   filled=True,\n",
    "                                   rounded=True,\n",
    "                                   special_characters=True\n",
    "                                  )\n",
    "rf_clf_graph1 = pydotplus.graph_from_dot_data(rf_clf_dot_data1)\n",
    "rf_clf_graph1.write_png('plots/bin_clf_rf1_path.png')\n",
    "Image(rf_clf_graph1.create_png())"
   ]
  },
  {
   "cell_type": "code",
   "execution_count": null,
   "metadata": {},
   "outputs": [],
   "source": [
    "X_train_c.columns"
   ]
  },
  {
   "cell_type": "code",
   "execution_count": null,
   "metadata": {},
   "outputs": [],
   "source": [
    "print('Convenience plot with ``partial_dependence_plots``')\n",
    "names = X_train_c.columns\n",
    "features = [10, 27, 28, 22, (5, 1)]\n",
    "fig, axs = plot_partial_dependence(gbt_bin_clf, X_train_c, features,\n",
    "                                   feature_names=names,\n",
    "                                   n_jobs=3, grid_resolution=50)\n",
    "fig.suptitle('Partial dependence')\n",
    "plt.subplots_adjust(top=0.9)  # tight_layout causes overlap with suptitle\n",
    "\n",
    "print('Custom 3d plot via ``partial_dependence``')\n",
    "fig = plt.figure()\n",
    "\n",
    "target_feature = (27, 22)\n",
    "pdp, axes = partial_dependence(gbt_bin_clf, target_feature,\n",
    "                               X=X_train_c, grid_resolution=50)\n",
    "XX, YY = np.meshgrid(axes[0], axes[1])\n",
    "Z = pdp[0].reshape(list(map(np.size, axes))).T\n",
    "ax = Axes3D(fig)\n",
    "surf = ax.plot_surface(XX, YY, Z, rstride=1, cstride=1,\n",
    "                       cmap=plt.cm.BuPu, edgecolor='k')\n",
    "ax.set_xlabel(names[target_feature[0]])\n",
    "ax.set_ylabel(names[target_feature[1]])\n",
    "ax.set_zlabel('Partial dependence')\n",
    "#  pretty init view\n",
    "ax.view_init(elev=22, azim=122)\n",
    "plt.colorbar(surf)\n",
    "plt.suptitle('Partial dependence cancer on worst\\n'\n",
    "             'symmetry and worst concave points')\n",
    "plt.subplots_adjust(top=0.9)\n",
    "\n",
    "plt.show()"
   ]
  },
  {
   "cell_type": "code",
   "execution_count": null,
   "metadata": {},
   "outputs": [],
   "source": [
    "X_test_c.iloc[0]"
   ]
  },
  {
   "cell_type": "code",
   "execution_count": null,
   "metadata": {},
   "outputs": [],
   "source": [
    "import lime\n",
    "import lime.lime_tabular"
   ]
  },
  {
   "cell_type": "code",
   "execution_count": null,
   "metadata": {},
   "outputs": [],
   "source": [
    "X_train_c.as_matrix()"
   ]
  },
  {
   "cell_type": "code",
   "execution_count": null,
   "metadata": {},
   "outputs": [],
   "source": [
    "explainer = lime.lime_tabular.LimeTabularExplainer(X_train_c.as_matrix(), feature_names=X_train_c.columns, class_names=[\"neg\", \"pos\"], discretize_continuous=True, kernel_width=3)\n"
   ]
  },
  {
   "cell_type": "code",
   "execution_count": null,
   "metadata": {},
   "outputs": [],
   "source": [
    "exp = explainer.explain_instance(X_test_c.as_matrix()[1], gbt_bin_clf.predict_proba, num_features=10, top_labels=1)"
   ]
  },
  {
   "cell_type": "code",
   "execution_count": null,
   "metadata": {},
   "outputs": [],
   "source": [
    "exp.show_in_notebook(show_table=True, show_all=False)\n"
   ]
  },
  {
   "cell_type": "code",
   "execution_count": null,
   "metadata": {},
   "outputs": [],
   "source": [
    "exp_rf = explainer.explain_instance(X_test_c.as_matrix()[1], rf_bin_clf.predict_proba, num_features=10, top_labels=1)"
   ]
  },
  {
   "cell_type": "code",
   "execution_count": null,
   "metadata": {},
   "outputs": [],
   "source": [
    "exp_rf.show_in_notebook(show_table=True, show_all=False)\n"
   ]
  },
  {
   "cell_type": "code",
   "execution_count": null,
   "metadata": {},
   "outputs": [],
   "source": [
    "explainer = lime.lime_tabular.LimeTabularExplainer(X_train_h.as_matrix(), feature_names=X_train_h.columns[0:8], discretize_continuous=True, kernel_width=3)\n",
    "exp = explainer.explain_instance(X_test_h.as_matrix()[1], gbt_bin_reg.predict, num_features=10, top_labels=1)\n",
    "exp.show_in_notebook(show_table=True, show_all=False)\n"
   ]
  },
  {
   "cell_type": "code",
   "execution_count": null,
   "metadata": {},
   "outputs": [],
   "source": [
    "target_temp = np.zeros(1000)\n",
    "target_temp[0:250]= np.ones(250) \n",
    "target = target_temp.astype(int) & np.random.randint(0,2, 1000)\n",
    "f1 = np.zeros(1000)\n",
    "f1[0:500]=np.ones(500)\n",
    "f2 = np.zeros(1000)\n",
    "f2[0:250]= np.ones(250)\n",
    "f2[500:750]=np.ones(250)"
   ]
  },
  {
   "cell_type": "code",
   "execution_count": null,
   "metadata": {},
   "outputs": [],
   "source": []
  },
  {
   "cell_type": "code",
   "execution_count": null,
   "metadata": {},
   "outputs": [],
   "source": [
    "fake_data = pd.DataFrame(list(zip(f1, f2)), columns=[\"f1\", \"f2\"])\n"
   ]
  },
  {
   "cell_type": "code",
   "execution_count": null,
   "metadata": {},
   "outputs": [],
   "source": [
    "gbt_bin_clf2 = GradientBoostingClassifier(max_depth=2, \n",
    "                                         n_estimators=10, \n",
    "                                         random_state=0)"
   ]
  },
  {
   "cell_type": "code",
   "execution_count": null,
   "metadata": {},
   "outputs": [],
   "source": [
    "gbt_bin_clf2.fit(fake_data, target)"
   ]
  },
  {
   "cell_type": "code",
   "execution_count": null,
   "metadata": {},
   "outputs": [],
   "source": [
    "target.mean()"
   ]
  },
  {
   "cell_type": "code",
   "execution_count": null,
   "metadata": {},
   "outputs": [],
   "source": [
    "gbt_clf_dot_data_22 = export_graphviz(gbt_bin_clf2.estimators_[2][0],\n",
    "                                   out_file=None,\n",
    "                                   feature_names=[\"F1\", \"F2\"]\n",
    "                                  )\n",
    "gbt_clf_graph_22 = pydotplus.graph_from_dot_data(gbt_clf_dot_data_22)\n",
    "#gbt_clf_graph0.write_png('plots/bin_clf_gbt0_path.png')\n",
    "Image(gbt_clf_graph_22.create_png())"
   ]
  },
  {
   "cell_type": "code",
   "execution_count": null,
   "metadata": {},
   "outputs": [],
   "source": [
    "gbt_bin_clf_pred2, gbt_bin_clf_bias2, gbt_bin_clf_contrib2 = ti.predict(gbt_bin_clf2, fake_data)"
   ]
  },
  {
   "cell_type": "code",
   "execution_count": null,
   "metadata": {},
   "outputs": [],
   "source": [
    "df2, true_label2, pred2 = plot_obs_feature_contrib(gbt_bin_clf2,\n",
    "                                                   gbt_bin_clf_contrib2,\n",
    "                                                   fake_data,\n",
    "                                                   pd.DataFrame(target,columns=['target']),\n",
    "                                                   1,\n",
    "                                                   order_by='contribution',\n",
    "                                                   num_features=2\n",
    "                                                  )\n",
    "plt.tight_layout()\n",
    "plt.savefig('plots/contribution_plot_rf_class.png')"
   ]
  },
  {
   "cell_type": "code",
   "execution_count": null,
   "metadata": {},
   "outputs": [],
   "source": [
    "df2, true_label2, pred2 = plot_obs_feature_contrib(gbt_bin_clf2,\n",
    "                                                   gbt_bin_clf_contrib2,\n",
    "                                                   fake_data,\n",
    "                                                   pd.DataFrame(target,columns=['target']),\n",
    "                                                   500,\n",
    "                                                   order_by='contribution',\n",
    "                                                   num_features=2\n",
    "                      0\n",
    "                                                  .)00\n",
    "0.\n",
    "plt.tight_layout()\n",
    "plt.savefig('plots/contribution_plot_rf_class.png')"
   ]
  },
  {
   "cell_type": "code",
   "execution_count": null,
   "metadata": {},
   "outputs": [],
   "source": [
    "testVals22 = gbt_bin_clf_contrib2[0]\n",
    "x = list(range(2))\n",
    "print(testVals22)"
   ]
  },
  {
   "cell_type": "code",
   "execution_count": null,
   "metadata": {},
   "outputs": [],
   "source": [
    "contrib22 = np.zeros(2)\n",
    "for ii in range(100000):\n",
    "    y = sample(x, len(x))\n",
    "    sumContrib = 0\n",
    "    prevVal = 0\n",
    "    for jj in y:\n",
    "        sumContrib +=  testVals22[jj]\n",
    "        val = expit(sumContrib) - prevVal\n",
    "        prevVal = expit(sumContrib) \n",
    "        contrib22[jj]+=val"
   ]
  },
  {
   "cell_type": "code",
   "execution_count": null,
   "metadata": {},
   "outputs": [],
   "source": [
    "contrib22/100000"
   ]
  },
  {
   "cell_type": "code",
   "execution_count": null,
   "metadata": {},
   "outputs": [],
   "source": [
    "np.random.randint(0,2, 1000)&np.random.randint(0,2, 1000)"
   ]
  },
  {
   "cell_type": "code",
   "execution_count": null,
   "metadata": {},
   "outputs": [],
   "source": [
    "np.zeros(10)"
   ]
  },
  {
   "cell_type": "code",
   "execution_count": null,
   "metadata": {},
   "outputs": [],
   "source": []
  },
  {
   "cell_type": "code",
   "execution_count": null,
   "metadata": {},
   "outputs": [],
   "source": []
  },
  {
   "cell_type": "code",
   "execution_count": null,
   "metadata": {},
   "outputs": [],
   "source": []
  },
  {
   "cell_type": "code",
   "execution_count": null,
   "metadata": {},
   "outputs": [],
   "source": []
  }
 ],
 "metadata": {
  "kernelspec": {
   "display_name": "Python 3",
   "language": "python",
   "name": "python3"
  },
  "language_info": {
   "codemirror_mode": {
    "name": "ipython",
    "version": 3
   },
   "file_extension": ".py",
   "mimetype": "text/x-python",
   "name": "python",
   "nbconvert_exporter": "python",
   "pygments_lexer": "ipython3",
   "version": "3.6.3"
  },
  "toc": {
   "colors": {
    "hover_highlight": "#DAA520",
    "navigate_num": "#000000",
    "navigate_text": "#333333",
    "running_highlight": "#FF0000",
    "selected_highlight": "#FFD700",
    "sidebar_border": "#EEEEEE",
    "wrapper_background": "#FFFFFF"
   },
   "moveMenuLeft": true,
   "nav_menu": {
    "height": "12px",
    "width": "252px"
   },
   "navigate_menu": true,
   "number_sections": true,
   "sideBar": true,
   "threshold": 4,
   "toc_cell": true,
   "toc_position": {
    "height": "1211px",
    "left": "0px",
    "right": "1068px",
    "top": "106px",
    "width": "212px"
   },
   "toc_section_display": "block",
   "toc_window_display": true,
   "widenNotebook": false
  }
 },
 "nbformat": 4,
 "nbformat_minor": 2
}
