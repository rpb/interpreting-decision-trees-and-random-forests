{
 "cells": [
  {
   "cell_type": "markdown",
   "metadata": {
    "toc": "true"
   },
   "source": [
    "# Table of Contents\n",
    " <p><div class=\"lev1 toc-item\"><a href=\"#Explaining-Decision-Trees-and-Random-Forests\" data-toc-modified-id=\"Explaining-Decision-Trees-and-Random-Forests-1\"><span class=\"toc-item-num\">1&nbsp;&nbsp;</span>Explaining Decision Trees and Random Forests</a></div><div class=\"lev1 toc-item\"><a href=\"#Import-Libraries\" data-toc-modified-id=\"Import-Libraries-2\"><span class=\"toc-item-num\">2&nbsp;&nbsp;</span>Import Libraries</a></div><div class=\"lev1 toc-item\"><a href=\"#How-Do-Decision-Trees-Work?\" data-toc-modified-id=\"How-Do-Decision-Trees-Work?-3\"><span class=\"toc-item-num\">3&nbsp;&nbsp;</span>How Do Decision Trees Work?</a></div><div class=\"lev1 toc-item\"><a href=\"#Load-Data\" data-toc-modified-id=\"Load-Data-4\"><span class=\"toc-item-num\">4&nbsp;&nbsp;</span>Load Data</a></div><div class=\"lev1 toc-item\"><a href=\"#Build-Model\" data-toc-modified-id=\"Build-Model-5\"><span class=\"toc-item-num\">5&nbsp;&nbsp;</span>Build Model</a></div><div class=\"lev2 toc-item\"><a href=\"#Create-Feature-Contribution\" data-toc-modified-id=\"Create-Feature-Contribution-51\"><span class=\"toc-item-num\">5.1&nbsp;&nbsp;</span>Create Feature Contribution</a></div><div class=\"lev1 toc-item\"><a href=\"#Visualizing-Decision-Trees\" data-toc-modified-id=\"Visualizing-Decision-Trees-6\"><span class=\"toc-item-num\">6&nbsp;&nbsp;</span>Visualizing Decision Trees</a></div><div class=\"lev1 toc-item\"><a href=\"#Contributions\" data-toc-modified-id=\"Contributions-7\"><span class=\"toc-item-num\">7&nbsp;&nbsp;</span>Contributions</a></div><div class=\"lev2 toc-item\"><a href=\"#Regression-Contributions\" data-toc-modified-id=\"Regression-Contributions-71\"><span class=\"toc-item-num\">7.1&nbsp;&nbsp;</span>Regression Contributions</a></div><div class=\"lev2 toc-item\"><a href=\"#Decision-Tree-Features-vs.-Contributions\" data-toc-modified-id=\"Decision-Tree-Features-vs.-Contributions-72\"><span class=\"toc-item-num\">7.2&nbsp;&nbsp;</span>Decision Tree Features vs. Contributions</a></div><div class=\"lev2 toc-item\"><a href=\"#Extending-to-Random-Forests\" data-toc-modified-id=\"Extending-to-Random-Forests-73\"><span class=\"toc-item-num\">7.3&nbsp;&nbsp;</span>Extending to Random Forests</a></div><div class=\"lev2 toc-item\"><a href=\"#Multi-class-classification\" data-toc-modified-id=\"Multi-class-classification-74\"><span class=\"toc-item-num\">7.4&nbsp;&nbsp;</span>Multi-class classification</a></div>"
   ]
  },
  {
   "cell_type": "markdown",
   "metadata": {},
   "source": [
    "# Explaining Decision Trees and Random Forests\n",
    "\n",
    "This notebook shows examples of how the `treeinterpreter` (<a href='https://github.com/andosa/treeinterpreter'>https://github.com/andosa/treeinterpreter</a>) library works and provides some insightful plots to gain a deeper understanding of what a decision tree or random forest is doing.\n",
    "\n",
    "I have created a set of useful plotting functions in the file `tree_interp_functions.py`."
   ]
  },
  {
   "cell_type": "markdown",
   "metadata": {},
   "source": [
    "# Import Libraries"
   ]
  },
  {
   "cell_type": "code",
   "execution_count": 1,
   "metadata": {
    "ExecuteTime": {
     "end_time": "2017-09-18T21:43:45.368779Z",
     "start_time": "2017-09-18T21:43:42.801742Z"
    }
   },
   "outputs": [],
   "source": [
    "from __future__ import division\n",
    "\n",
    "from IPython.display import Image, display\n",
    "%matplotlib inline\n",
    "import matplotlib.pyplot as plt\n",
    "import numpy as np\n",
    "import pandas as pd\n",
    "import seaborn as sns\n",
    "from sklearn.datasets import make_moons\n",
    "from sklearn.ensemble import RandomForestClassifier, RandomForestRegressor, GradientBoostingClassifier, GradientBoostingRegressor\n",
    "from sklearn.metrics import roc_auc_score\n",
    "from sklearn.model_selection import train_test_split\n",
    "from sklearn.tree import DecisionTreeClassifier, DecisionTreeRegressor,\\\n",
    "                         export_graphviz\n",
    "from treeinterpreter import treeinterpreter as ti\n",
    "import pydotplus\n",
    "import collections\n",
    "from tree_interp_functions import *\n",
    "from scipy.special import logit, expit\n",
    "from sklearn.datasets.california_housing import fetch_california_housing\n",
    "from sklearn.datasets import load_breast_cancer\n",
    "from mpl_toolkits.mplot3d import Axes3D\n",
    "\n",
    "from sklearn.model_selection import train_test_split\n",
    "from sklearn.ensemble.partial_dependence import plot_partial_dependence\n",
    "from sklearn.ensemble.partial_dependence import partial_dependence\n",
    "\n",
    "from sklearn.metrics import f1_score\n",
    "from sklearn.metrics import accuracy_score"
   ]
  },
  {
   "cell_type": "code",
   "execution_count": 2,
   "metadata": {
    "ExecuteTime": {
     "end_time": "2017-09-18T21:43:45.409091Z",
     "start_time": "2017-09-18T21:43:45.370580Z"
    }
   },
   "outputs": [],
   "source": [
    "# Set default matplotlib settings\n",
    "plt.rcParams['figure.figsize'] = (10, 7)\n",
    "plt.rcParams['lines.linewidth'] = 3\n",
    "plt.rcParams['figure.titlesize'] = 26\n",
    "plt.rcParams['axes.labelsize'] = 18\n",
    "plt.rcParams['axes.titlesize'] = 22\n",
    "plt.rcParams['xtick.labelsize'] = 14\n",
    "plt.rcParams['ytick.labelsize'] = 14\n",
    "plt.rcParams['legend.fontsize'] = 16\n",
    "\n",
    "# Set seaborn colours\n",
    "sns.set_style('darkgrid')\n",
    "sns.set_palette('colorblind')\n",
    "blue, green, red, purple, yellow, cyan = sns.color_palette('colorblind')"
   ]
  },
  {
   "cell_type": "markdown",
   "metadata": {},
   "source": [
    "# How Do Decision Trees Work?"
   ]
  },
  {
   "cell_type": "code",
   "execution_count": null,
   "metadata": {
    "ExecuteTime": {
     "end_time": "2017-09-18T21:43:46.169018Z",
     "start_time": "2017-09-18T21:43:45.411668Z"
    }
   },
   "outputs": [],
   "source": []
  },
  {
   "cell_type": "markdown",
   "metadata": {},
   "source": [
    "# Load Data\n",
    "We will use the abalone data set as an example. We would like to show how this works for decision tree and random forest regressors as well as classifiers. We use the `rings` variable as our continuous variable and create a binary variable from it to indicate whether `rings > 9`."
   ]
  },
  {
   "cell_type": "code",
   "execution_count": 3,
   "metadata": {
    "ExecuteTime": {
     "end_time": "2017-09-18T21:43:46.228634Z",
     "start_time": "2017-09-18T21:43:46.170534Z"
    }
   },
   "outputs": [],
   "source": [
    "cal_housing = fetch_california_housing()\n",
    "names = cal_housing.feature_names\n",
    "calHousing = pd.DataFrame(cal_housing.data, columns=names)\n",
    "X_train_h, X_test_h, y_train_h, y_test_h = train_test_split(calHousing,\n",
    "                                                        cal_housing.target,\n",
    "                                                        test_size=0.2,\n",
    "                                                        random_state=1)"
   ]
  },
  {
   "cell_type": "markdown",
   "metadata": {},
   "source": [
    "Here, we do a simple train/test split of the data."
   ]
  },
  {
   "cell_type": "code",
   "execution_count": 4,
   "metadata": {
    "ExecuteTime": {
     "end_time": "2017-09-18T21:43:46.273033Z",
     "start_time": "2017-09-18T21:43:46.230129Z"
    }
   },
   "outputs": [],
   "source": [
    "cancer_data = load_breast_cancer()\n",
    "names = cancer_data.feature_names\n",
    "cancerData = pd.DataFrame(cancer_data.data, columns=names)\n",
    "cancerTarget = pd.DataFrame(cancer_data.target, columns=[\"target\"])\n",
    "X_train_c, X_test_c, y_train_c, y_test_c = train_test_split(cancerData,\n",
    "                                                        cancer_data.target,\n",
    "                                                        test_size=0.2,\n",
    "                                                        random_state=1)"
   ]
  },
  {
   "cell_type": "markdown",
   "metadata": {},
   "source": [
    "# Build Model\n",
    "Now, we build simple decision tree and random forest models. We will limit the depth of the decision tree to show how the interpretation works."
   ]
  },
  {
   "cell_type": "code",
   "execution_count": 5,
   "metadata": {},
   "outputs": [
    {
     "data": {
      "text/plain": [
       "GradientBoostingClassifier(criterion='friedman_mse', init=None,\n",
       "              learning_rate=0.1, loss='deviance', max_depth=4,\n",
       "              max_features=None, max_leaf_nodes=None,\n",
       "              min_impurity_decrease=0.0, min_impurity_split=None,\n",
       "              min_samples_leaf=1, min_samples_split=2,\n",
       "              min_weight_fraction_leaf=0.0, n_estimators=500,\n",
       "              presort='auto', random_state=0, subsample=1.0, verbose=0,\n",
       "              warm_start=False)"
      ]
     },
     "execution_count": 5,
     "metadata": {},
     "output_type": "execute_result"
    }
   ],
   "source": [
    "rf_bin_clf = RandomForestClassifier(criterion='entropy', \n",
    "                                    max_depth=4,\n",
    "                                    n_estimators=1000, \n",
    "                                    random_state=0)\n",
    "rf_bin_clf.fit(X_train_c, y_train_c)\n",
    "gbt_bin_clf = GradientBoostingClassifier(max_depth=4, \n",
    "                                         n_estimators=500, \n",
    "                                         random_state=0)\n",
    "gbt_bin_clf.fit(X_train_c, y_train_c)"
   ]
  },
  {
   "cell_type": "code",
   "execution_count": 6,
   "metadata": {},
   "outputs": [],
   "source": [
    "rf_feature_imp_c = pd.DataFrame(list(zip(X_train_c.columns,  rf_bin_clf.feature_importances_)), columns=[\"features\", \"imp\"])\n",
    "gbt_feature_imp_c = pd.DataFrame(list(zip(X_train_c.columns, gbt_bin_clf.feature_importances_)), columns=[\"features\", \"imp\"])"
   ]
  },
  {
   "cell_type": "code",
   "execution_count": 7,
   "metadata": {},
   "outputs": [
    {
     "data": {
      "text/html": [
       "<div>\n",
       "<style>\n",
       "    .dataframe thead tr:only-child th {\n",
       "        text-align: right;\n",
       "    }\n",
       "\n",
       "    .dataframe thead th {\n",
       "        text-align: left;\n",
       "    }\n",
       "\n",
       "    .dataframe tbody tr th {\n",
       "        vertical-align: top;\n",
       "    }\n",
       "</style>\n",
       "<table border=\"1\" class=\"dataframe\">\n",
       "  <thead>\n",
       "    <tr style=\"text-align: right;\">\n",
       "      <th></th>\n",
       "      <th>features</th>\n",
       "      <th>imp</th>\n",
       "    </tr>\n",
       "  </thead>\n",
       "  <tbody>\n",
       "    <tr>\n",
       "      <th>0</th>\n",
       "      <td>mean radius</td>\n",
       "      <td>0.001080</td>\n",
       "    </tr>\n",
       "    <tr>\n",
       "      <th>1</th>\n",
       "      <td>mean texture</td>\n",
       "      <td>0.001107</td>\n",
       "    </tr>\n",
       "    <tr>\n",
       "      <th>2</th>\n",
       "      <td>mean perimeter</td>\n",
       "      <td>0.000000</td>\n",
       "    </tr>\n",
       "    <tr>\n",
       "      <th>3</th>\n",
       "      <td>mean area</td>\n",
       "      <td>0.000000</td>\n",
       "    </tr>\n",
       "    <tr>\n",
       "      <th>4</th>\n",
       "      <td>mean smoothness</td>\n",
       "      <td>0.000654</td>\n",
       "    </tr>\n",
       "    <tr>\n",
       "      <th>5</th>\n",
       "      <td>mean compactness</td>\n",
       "      <td>0.000042</td>\n",
       "    </tr>\n",
       "    <tr>\n",
       "      <th>6</th>\n",
       "      <td>mean concavity</td>\n",
       "      <td>0.000095</td>\n",
       "    </tr>\n",
       "    <tr>\n",
       "      <th>7</th>\n",
       "      <td>mean concave points</td>\n",
       "      <td>0.006600</td>\n",
       "    </tr>\n",
       "    <tr>\n",
       "      <th>8</th>\n",
       "      <td>mean symmetry</td>\n",
       "      <td>0.000044</td>\n",
       "    </tr>\n",
       "    <tr>\n",
       "      <th>9</th>\n",
       "      <td>mean fractal dimension</td>\n",
       "      <td>0.000058</td>\n",
       "    </tr>\n",
       "    <tr>\n",
       "      <th>10</th>\n",
       "      <td>radius error</td>\n",
       "      <td>0.005558</td>\n",
       "    </tr>\n",
       "    <tr>\n",
       "      <th>11</th>\n",
       "      <td>texture error</td>\n",
       "      <td>0.000437</td>\n",
       "    </tr>\n",
       "    <tr>\n",
       "      <th>12</th>\n",
       "      <td>perimeter error</td>\n",
       "      <td>0.000398</td>\n",
       "    </tr>\n",
       "    <tr>\n",
       "      <th>13</th>\n",
       "      <td>area error</td>\n",
       "      <td>0.005720</td>\n",
       "    </tr>\n",
       "    <tr>\n",
       "      <th>14</th>\n",
       "      <td>smoothness error</td>\n",
       "      <td>0.000060</td>\n",
       "    </tr>\n",
       "    <tr>\n",
       "      <th>15</th>\n",
       "      <td>compactness error</td>\n",
       "      <td>0.001904</td>\n",
       "    </tr>\n",
       "    <tr>\n",
       "      <th>16</th>\n",
       "      <td>concavity error</td>\n",
       "      <td>0.000115</td>\n",
       "    </tr>\n",
       "    <tr>\n",
       "      <th>17</th>\n",
       "      <td>concave points error</td>\n",
       "      <td>0.002951</td>\n",
       "    </tr>\n",
       "    <tr>\n",
       "      <th>18</th>\n",
       "      <td>symmetry error</td>\n",
       "      <td>0.000101</td>\n",
       "    </tr>\n",
       "    <tr>\n",
       "      <th>19</th>\n",
       "      <td>fractal dimension error</td>\n",
       "      <td>0.000399</td>\n",
       "    </tr>\n",
       "    <tr>\n",
       "      <th>20</th>\n",
       "      <td>worst radius</td>\n",
       "      <td>0.004379</td>\n",
       "    </tr>\n",
       "    <tr>\n",
       "      <th>21</th>\n",
       "      <td>worst texture</td>\n",
       "      <td>0.012987</td>\n",
       "    </tr>\n",
       "    <tr>\n",
       "      <th>22</th>\n",
       "      <td>worst perimeter</td>\n",
       "      <td>0.097820</td>\n",
       "    </tr>\n",
       "    <tr>\n",
       "      <th>23</th>\n",
       "      <td>worst area</td>\n",
       "      <td>0.008189</td>\n",
       "    </tr>\n",
       "    <tr>\n",
       "      <th>24</th>\n",
       "      <td>worst smoothness</td>\n",
       "      <td>0.000671</td>\n",
       "    </tr>\n",
       "    <tr>\n",
       "      <th>25</th>\n",
       "      <td>worst compactness</td>\n",
       "      <td>0.001142</td>\n",
       "    </tr>\n",
       "    <tr>\n",
       "      <th>26</th>\n",
       "      <td>worst concavity</td>\n",
       "      <td>0.000532</td>\n",
       "    </tr>\n",
       "    <tr>\n",
       "      <th>27</th>\n",
       "      <td>worst concave points</td>\n",
       "      <td>0.011268</td>\n",
       "    </tr>\n",
       "    <tr>\n",
       "      <th>28</th>\n",
       "      <td>worst symmetry</td>\n",
       "      <td>0.001689</td>\n",
       "    </tr>\n",
       "    <tr>\n",
       "      <th>29</th>\n",
       "      <td>worst fractal dimension</td>\n",
       "      <td>0.000000</td>\n",
       "    </tr>\n",
       "  </tbody>\n",
       "</table>\n",
       "</div>"
      ],
      "text/plain": [
       "                   features       imp\n",
       "0               mean radius  0.001080\n",
       "1              mean texture  0.001107\n",
       "2            mean perimeter  0.000000\n",
       "3                 mean area  0.000000\n",
       "4           mean smoothness  0.000654\n",
       "5          mean compactness  0.000042\n",
       "6            mean concavity  0.000095\n",
       "7       mean concave points  0.006600\n",
       "8             mean symmetry  0.000044\n",
       "9    mean fractal dimension  0.000058\n",
       "10             radius error  0.005558\n",
       "11            texture error  0.000437\n",
       "12          perimeter error  0.000398\n",
       "13               area error  0.005720\n",
       "14         smoothness error  0.000060\n",
       "15        compactness error  0.001904\n",
       "16          concavity error  0.000115\n",
       "17     concave points error  0.002951\n",
       "18           symmetry error  0.000101\n",
       "19  fractal dimension error  0.000399\n",
       "20             worst radius  0.004379\n",
       "21            worst texture  0.012987\n",
       "22          worst perimeter  0.097820\n",
       "23               worst area  0.008189\n",
       "24         worst smoothness  0.000671\n",
       "25        worst compactness  0.001142\n",
       "26          worst concavity  0.000532\n",
       "27     worst concave points  0.011268\n",
       "28           worst symmetry  0.001689\n",
       "29  worst fractal dimension  0.000000"
      ]
     },
     "execution_count": 7,
     "metadata": {},
     "output_type": "execute_result"
    }
   ],
   "source": [
    "gbt_feature_imp_c"
   ]
  },
  {
   "cell_type": "code",
   "execution_count": 8,
   "metadata": {},
   "outputs": [
    {
     "data": {
      "text/html": [
       "<div>\n",
       "<style>\n",
       "    .dataframe thead tr:only-child th {\n",
       "        text-align: right;\n",
       "    }\n",
       "\n",
       "    .dataframe thead th {\n",
       "        text-align: left;\n",
       "    }\n",
       "\n",
       "    .dataframe tbody tr th {\n",
       "        vertical-align: top;\n",
       "    }\n",
       "</style>\n",
       "<table border=\"1\" class=\"dataframe\">\n",
       "  <thead>\n",
       "    <tr style=\"text-align: right;\">\n",
       "      <th></th>\n",
       "      <th>features</th>\n",
       "      <th>imp</th>\n",
       "    </tr>\n",
       "  </thead>\n",
       "  <tbody>\n",
       "    <tr>\n",
       "      <th>0</th>\n",
       "      <td>mean radius</td>\n",
       "      <td>0.037843</td>\n",
       "    </tr>\n",
       "    <tr>\n",
       "      <th>1</th>\n",
       "      <td>mean texture</td>\n",
       "      <td>0.016815</td>\n",
       "    </tr>\n",
       "    <tr>\n",
       "      <th>2</th>\n",
       "      <td>mean perimeter</td>\n",
       "      <td>0.052528</td>\n",
       "    </tr>\n",
       "    <tr>\n",
       "      <th>3</th>\n",
       "      <td>mean area</td>\n",
       "      <td>0.036705</td>\n",
       "    </tr>\n",
       "    <tr>\n",
       "      <th>4</th>\n",
       "      <td>mean smoothness</td>\n",
       "      <td>0.004534</td>\n",
       "    </tr>\n",
       "    <tr>\n",
       "      <th>5</th>\n",
       "      <td>mean compactness</td>\n",
       "      <td>0.014918</td>\n",
       "    </tr>\n",
       "    <tr>\n",
       "      <th>6</th>\n",
       "      <td>mean concavity</td>\n",
       "      <td>0.055114</td>\n",
       "    </tr>\n",
       "    <tr>\n",
       "      <th>7</th>\n",
       "      <td>mean concave points</td>\n",
       "      <td>0.085989</td>\n",
       "    </tr>\n",
       "    <tr>\n",
       "      <th>8</th>\n",
       "      <td>mean symmetry</td>\n",
       "      <td>0.002661</td>\n",
       "    </tr>\n",
       "    <tr>\n",
       "      <th>9</th>\n",
       "      <td>mean fractal dimension</td>\n",
       "      <td>0.002951</td>\n",
       "    </tr>\n",
       "    <tr>\n",
       "      <th>10</th>\n",
       "      <td>radius error</td>\n",
       "      <td>0.013850</td>\n",
       "    </tr>\n",
       "    <tr>\n",
       "      <th>11</th>\n",
       "      <td>texture error</td>\n",
       "      <td>0.003424</td>\n",
       "    </tr>\n",
       "    <tr>\n",
       "      <th>12</th>\n",
       "      <td>perimeter error</td>\n",
       "      <td>0.008658</td>\n",
       "    </tr>\n",
       "    <tr>\n",
       "      <th>13</th>\n",
       "      <td>area error</td>\n",
       "      <td>0.029829</td>\n",
       "    </tr>\n",
       "    <tr>\n",
       "      <th>14</th>\n",
       "      <td>smoothness error</td>\n",
       "      <td>0.002714</td>\n",
       "    </tr>\n",
       "    <tr>\n",
       "      <th>15</th>\n",
       "      <td>compactness error</td>\n",
       "      <td>0.003098</td>\n",
       "    </tr>\n",
       "    <tr>\n",
       "      <th>16</th>\n",
       "      <td>concavity error</td>\n",
       "      <td>0.003432</td>\n",
       "    </tr>\n",
       "    <tr>\n",
       "      <th>17</th>\n",
       "      <td>concave points error</td>\n",
       "      <td>0.004398</td>\n",
       "    </tr>\n",
       "    <tr>\n",
       "      <th>18</th>\n",
       "      <td>symmetry error</td>\n",
       "      <td>0.002685</td>\n",
       "    </tr>\n",
       "    <tr>\n",
       "      <th>19</th>\n",
       "      <td>fractal dimension error</td>\n",
       "      <td>0.002966</td>\n",
       "    </tr>\n",
       "    <tr>\n",
       "      <th>20</th>\n",
       "      <td>worst radius</td>\n",
       "      <td>0.113702</td>\n",
       "    </tr>\n",
       "    <tr>\n",
       "      <th>21</th>\n",
       "      <td>worst texture</td>\n",
       "      <td>0.020225</td>\n",
       "    </tr>\n",
       "    <tr>\n",
       "      <th>22</th>\n",
       "      <td>worst perimeter</td>\n",
       "      <td>0.148012</td>\n",
       "    </tr>\n",
       "    <tr>\n",
       "      <th>23</th>\n",
       "      <td>worst area</td>\n",
       "      <td>0.113799</td>\n",
       "    </tr>\n",
       "    <tr>\n",
       "      <th>24</th>\n",
       "      <td>worst smoothness</td>\n",
       "      <td>0.012058</td>\n",
       "    </tr>\n",
       "    <tr>\n",
       "      <th>25</th>\n",
       "      <td>worst compactness</td>\n",
       "      <td>0.014995</td>\n",
       "    </tr>\n",
       "    <tr>\n",
       "      <th>26</th>\n",
       "      <td>worst concavity</td>\n",
       "      <td>0.047396</td>\n",
       "    </tr>\n",
       "    <tr>\n",
       "      <th>27</th>\n",
       "      <td>worst concave points</td>\n",
       "      <td>0.130809</td>\n",
       "    </tr>\n",
       "    <tr>\n",
       "      <th>28</th>\n",
       "      <td>worst symmetry</td>\n",
       "      <td>0.008766</td>\n",
       "    </tr>\n",
       "    <tr>\n",
       "      <th>29</th>\n",
       "      <td>worst fractal dimension</td>\n",
       "      <td>0.005125</td>\n",
       "    </tr>\n",
       "  </tbody>\n",
       "</table>\n",
       "</div>"
      ],
      "text/plain": [
       "                   features       imp\n",
       "0               mean radius  0.037843\n",
       "1              mean texture  0.016815\n",
       "2            mean perimeter  0.052528\n",
       "3                 mean area  0.036705\n",
       "4           mean smoothness  0.004534\n",
       "5          mean compactness  0.014918\n",
       "6            mean concavity  0.055114\n",
       "7       mean concave points  0.085989\n",
       "8             mean symmetry  0.002661\n",
       "9    mean fractal dimension  0.002951\n",
       "10             radius error  0.013850\n",
       "11            texture error  0.003424\n",
       "12          perimeter error  0.008658\n",
       "13               area error  0.029829\n",
       "14         smoothness error  0.002714\n",
       "15        compactness error  0.003098\n",
       "16          concavity error  0.003432\n",
       "17     concave points error  0.004398\n",
       "18           symmetry error  0.002685\n",
       "19  fractal dimension error  0.002966\n",
       "20             worst radius  0.113702\n",
       "21            worst texture  0.020225\n",
       "22          worst perimeter  0.148012\n",
       "23               worst area  0.113799\n",
       "24         worst smoothness  0.012058\n",
       "25        worst compactness  0.014995\n",
       "26          worst concavity  0.047396\n",
       "27     worst concave points  0.130809\n",
       "28           worst symmetry  0.008766\n",
       "29  worst fractal dimension  0.005125"
      ]
     },
     "execution_count": 8,
     "metadata": {},
     "output_type": "execute_result"
    }
   ],
   "source": [
    "rf_feature_imp_c"
   ]
  },
  {
   "cell_type": "code",
   "execution_count": null,
   "metadata": {},
   "outputs": [],
   "source": []
  },
  {
   "cell_type": "markdown",
   "metadata": {},
   "source": [
    "## Create Feature Contribution\n",
    "We use the `ti.predict` function to get our predictions, biases, and contributions. The contributions matrix is a 3d array which represents the contribution for each example, feature, and class label."
   ]
  },
  {
   "cell_type": "code",
   "execution_count": 9,
   "metadata": {},
   "outputs": [],
   "source": [
    "rf_bin_clf_pred, rf_bin_clf_bias, rf_bin_clf_contrib = ti.predict(rf_bin_clf, X_test_c)\n",
    "gbt_bin_clf_pred, gbt_bin_clf_bias, gbt_bin_clf_contrib = ti.predict(gbt_bin_clf, X_test_c)"
   ]
  },
  {
   "cell_type": "code",
   "execution_count": 10,
   "metadata": {},
   "outputs": [],
   "source": [
    "compareGBT = list(zip(expit(gbt_bin_clf_pred), expit(gbt_bin_clf_pred)))"
   ]
  },
  {
   "cell_type": "code",
   "execution_count": 11,
   "metadata": {},
   "outputs": [],
   "source": [
    "gbt_bin_clf_orig_proba = gbt_bin_clf.predict_proba(X_test_c)"
   ]
  },
  {
   "cell_type": "code",
   "execution_count": 12,
   "metadata": {},
   "outputs": [
    {
     "name": "stdout",
     "output_type": "stream",
     "text": [
      "500\n"
     ]
    }
   ],
   "source": [
    "sum_gbt = np.zeros(gbt_bin_clf_pred.shape[0])  \n",
    "isFirst = True \n",
    "norm = 0\n",
    "learning_rate = gbt_bin_clf.learning_rate\n",
    "print(gbt_bin_clf.n_estimators)\n",
    "for ii in range(gbt_bin_clf.n_estimators):\n",
    "    #print(gbt_bin_clf.estimators_[ii][0].predict(X_test)[0])\n",
    "    if isFirst:\n",
    "        sum_gbt += (learning_rate * gbt_bin_clf.estimators_[ii][0].predict(X_test_c))\n",
    "        isFirst = False\n",
    "        norm += learning_rate\n",
    "    else:\n",
    "        sum_gbt += (learning_rate * gbt_bin_clf.estimators_[ii][0].predict(X_test_c))\n",
    "        norm += learning_rate\n",
    "#print(\"Norm: \" + str(norm))\n",
    "#print(\"Sum: \" + str(sum_gbt))\n",
    "#print(\"Sum/Norm: \" + str(sum_gbt/norm))\n",
    "#print(\"Result: \" + str(expit(sum_gbt/norm)))\n",
    "#print(\"Target: 0.67489087\")"
   ]
  },
  {
   "cell_type": "code",
   "execution_count": 13,
   "metadata": {},
   "outputs": [
    {
     "data": {
      "text/plain": [
       "(-1e-08, 1e-08)"
      ]
     },
     "execution_count": 13,
     "metadata": {},
     "output_type": "execute_result"
    },
    {
     "data": {
      "image/png": "[encoded data removed]",
      "text/plain": [
       "<matplotlib.figure.Figure at 0x1a1793db70>"
      ]
     },
     "metadata": {},
     "output_type": "display_data"
    }
   ],
   "source": [
    "plt.plot(gbt_bin_clf_orig_proba[:, 1]-expit(sum_gbt + logit(y_train_c.mean())))\n",
    "plt.ylim(-0.00000001, 0.00000001)"
   ]
  },
  {
   "cell_type": "code",
   "execution_count": 14,
   "metadata": {},
   "outputs": [
    {
     "data": {
      "text/plain": [
       "[<matplotlib.lines.Line2D at 0x1a1bd8be48>]"
      ]
     },
     "execution_count": 14,
     "metadata": {},
     "output_type": "execute_result"
    },
    {
     "data": {
      "image/png": "[encoded data removed]",
      "text/plain": [
       "<matplotlib.figure.Figure at 0x1a179d7588>"
      ]
     },
     "metadata": {},
     "output_type": "display_data"
    }
   ],
   "source": [
    "plt.plot(gbt_bin_clf_orig_proba[:, 1] - expit(gbt_bin_clf_pred + logit(y_train_c.mean())))"
   ]
  },
  {
   "cell_type": "code",
   "execution_count": 15,
   "metadata": {},
   "outputs": [
    {
     "data": {
      "text/plain": [
       "array([ 0.00000000e+00, -3.90312782e-18,  0.00000000e+00,  3.52365706e-19,\n",
       "       -5.42101086e-19,  4.06575815e-19,  4.33680869e-19,  3.33066907e-16,\n",
       "        0.00000000e+00,  0.00000000e+00,  0.00000000e+00,  9.21571847e-19,\n",
       "        3.52365706e-19,  0.00000000e+00,  0.00000000e+00,  0.00000000e+00,\n",
       "        0.00000000e+00,  0.00000000e+00,  0.00000000e+00,  4.33680869e-19,\n",
       "        0.00000000e+00,  0.00000000e+00,  3.25260652e-19,  0.00000000e+00,\n",
       "        7.04731412e-19,  0.00000000e+00,  0.00000000e+00,  3.25260652e-19,\n",
       "        3.25260652e-19,  5.42101086e-19,  3.25260652e-19,  0.00000000e+00,\n",
       "        3.25260652e-19,  5.42101086e-19,  0.00000000e+00,  0.00000000e+00,\n",
       "       -6.39679282e-18,  0.00000000e+00,  0.00000000e+00,  0.00000000e+00,\n",
       "        0.00000000e+00,  0.00000000e+00,  0.00000000e+00,  0.00000000e+00,\n",
       "        0.00000000e+00,  3.25260652e-19,  0.00000000e+00,  0.00000000e+00,\n",
       "        0.00000000e+00,  4.60785923e-19,  3.25260652e-19,  0.00000000e+00,\n",
       "        0.00000000e+00,  0.00000000e+00, -2.22044605e-16,  0.00000000e+00,\n",
       "        0.00000000e+00,  4.87890978e-19,  0.00000000e+00,  0.00000000e+00,\n",
       "        0.00000000e+00,  0.00000000e+00,  0.00000000e+00,  0.00000000e+00,\n",
       "        0.00000000e+00,  0.00000000e+00,  0.00000000e+00,  3.25260652e-19,\n",
       "        0.00000000e+00,  0.00000000e+00,  0.00000000e+00,  0.00000000e+00,\n",
       "        0.00000000e+00,  3.25260652e-19,  0.00000000e+00,  3.25260652e-19,\n",
       "        0.00000000e+00,  0.00000000e+00,  0.00000000e+00,  3.25260652e-19,\n",
       "        0.00000000e+00,  3.25260652e-19,  0.00000000e+00,  3.25260652e-19,\n",
       "        0.00000000e+00,  0.00000000e+00,  0.00000000e+00,  0.00000000e+00,\n",
       "        3.25260652e-19,  0.00000000e+00,  0.00000000e+00,  3.25260652e-19,\n",
       "        0.00000000e+00,  0.00000000e+00,  3.25260652e-19,  0.00000000e+00,\n",
       "        0.00000000e+00,  0.00000000e+00,  0.00000000e+00,  0.00000000e+00,\n",
       "        0.00000000e+00,  0.00000000e+00,  0.00000000e+00,  0.00000000e+00,\n",
       "        0.00000000e+00,  0.00000000e+00,  0.00000000e+00,  0.00000000e+00,\n",
       "        4.87890978e-19,  0.00000000e+00, -4.49943902e-18,  2.81892565e-18,\n",
       "        1.11022302e-16,  0.00000000e+00])"
      ]
     },
     "execution_count": 15,
     "metadata": {},
     "output_type": "execute_result"
    }
   ],
   "source": [
    "gbt_bin_clf_orig_proba[:, 1] - (expit(sum_gbt + logit(y_train_c.mean())))"
   ]
  },
  {
   "cell_type": "code",
   "execution_count": 16,
   "metadata": {},
   "outputs": [
    {
     "data": {
      "text/plain": [
       "0.5389965007326868"
      ]
     },
     "execution_count": 16,
     "metadata": {},
     "output_type": "execute_result"
    }
   ],
   "source": [
    "logit(y_test_c.mean())"
   ]
  },
  {
   "cell_type": "code",
   "execution_count": 17,
   "metadata": {},
   "outputs": [
    {
     "data": {
      "text/plain": [
       "0.5166907432183888"
      ]
     },
     "execution_count": 17,
     "metadata": {},
     "output_type": "execute_result"
    }
   ],
   "source": [
    "logit(y_train_c.mean())"
   ]
  },
  {
   "cell_type": "code",
   "execution_count": 18,
   "metadata": {},
   "outputs": [
    {
     "data": {
      "text/plain": [
       "[<matplotlib.lines.Line2D at 0x1a1beeb908>]"
      ]
     },
     "execution_count": 18,
     "metadata": {},
     "output_type": "execute_result"
    },
    {
     "data": {
      "image/png": "[encoded data removed]",
      "text/plain": [
       "<matplotlib.figure.Figure at 0x1a1bd67898>"
      ]
     },
     "metadata": {},
     "output_type": "display_data"
    }
   ],
   "source": [
    "plt.plot(gbt_bin_clf_orig_proba[:, 1]-expit(gbt_bin_clf_pred+ logit(y_train_c.mean())))"
   ]
  },
  {
   "cell_type": "markdown",
   "metadata": {},
   "source": [
    "# Contributions"
   ]
  },
  {
   "cell_type": "markdown",
   "metadata": {},
   "source": [
    "## Compare Gradient Boosted Trees to RF and DT"
   ]
  },
  {
   "cell_type": "code",
   "execution_count": 19,
   "metadata": {},
   "outputs": [
    {
     "data": {
      "image/png": "[encoded data removed]",
      "text/plain": [
       "<matplotlib.figure.Figure at 0x1a179da630>"
      ]
     },
     "metadata": {},
     "output_type": "display_data"
    }
   ],
   "source": [
    "df2, true_label2, pred2 = plot_obs_feature_contrib(rf_bin_clf,\n",
    "                                                   rf_bin_clf_contrib,\n",
    "                                                   X_test_c,\n",
    "                                                   pd.DataFrame(y_test_c,columns=['target']),\n",
    "                                                   1,\n",
    "                                                   order_by='contribution',\n",
    "                                                   num_features=10\n",
    "                                                  )\n",
    "plt.tight_layout()\n",
    "plt.savefig('plots/contribution_plot_rf_class.png')"
   ]
  },
  {
   "cell_type": "code",
   "execution_count": 20,
   "metadata": {},
   "outputs": [
    {
     "name": "stdout",
     "output_type": "stream",
     "text": [
      "[1.0, 0.0]\n"
     ]
    },
    {
     "data": {
      "image/png": "[encoded data removed]",
      "text/plain": [
       "<matplotlib.figure.Figure at 0x1a1befaa90>"
      ]
     },
     "metadata": {},
     "output_type": "display_data"
    }
   ],
   "source": [
    "df3, true_label3, pred3 = plot_obs_feature_contrib(gbt_bin_clf,\n",
    "                                                gbt_bin_clf_contrib,\n",
    "                                                X_test_c,\n",
    "                                                pd.DataFrame(y_test_c,columns=['target']),\n",
    "                                                1,\n",
    "                                                order_by='contribution',\n",
    "                                                num_features=10,\n",
    "                                                   neg=True\n",
    "                                    )\n",
    "plt.tight_layout()\n",
    "plt.savefig('plots/contribution_plot_gbt_class.png')"
   ]
  },
  {
   "cell_type": "code",
   "execution_count": 24,
   "metadata": {},
   "outputs": [
    {
     "name": "stdout",
     "output_type": "stream",
     "text": [
      "[1.0, 0.0]\n"
     ]
    },
    {
     "data": {
      "image/png": "[encoded data removed]",
      "text/plain": [
       "<matplotlib.figure.Figure at 0x1119d4b70>"
      ]
     },
     "metadata": {},
     "output_type": "display_data"
    }
   ],
   "source": [
    "df3, true_label3, pred3 = plot_obs_feature_contrib(gbt_bin_clf,\n",
    "                                                gbt_bin_clf_contrib,\n",
    "                                                X_test_c,\n",
    "                                                pd.DataFrame(y_test_c,columns=['target']),\n",
    "                                                1,\n",
    "                                                order_by='contribution',\n",
    "                                                num_features=10,\n",
    "                                                prob=True\n",
    "                                    )\n",
    "plt.tight_layout()\n",
    "plt.savefig('plots/contribution_plot_gbt_class.png')"
   ]
  },
  {
   "cell_type": "code",
   "execution_count": 22,
   "metadata": {},
   "outputs": [
    {
     "data": {
      "text/plain": [
       "0.004455002403008335"
      ]
     },
     "execution_count": 22,
     "metadata": {},
     "output_type": "execute_result"
    }
   ],
   "source": [
    "expit(5+ 1.1)-expit(5)"
   ]
  },
  {
   "cell_type": "code",
   "execution_count": 23,
   "metadata": {},
   "outputs": [
    {
     "data": {
      "text/plain": [
       "0.0014134238348780803"
      ]
     },
     "execution_count": 23,
     "metadata": {},
     "output_type": "execute_result"
    }
   ],
   "source": [
    "expit(5 + 1.1 + 1) - expit(6.1)"
   ]
  },
  {
   "cell_type": "code",
   "execution_count": null,
   "metadata": {},
   "outputs": [],
   "source": [
    "expit(1) # contrib"
   ]
  },
  {
   "cell_type": "code",
   "execution_count": null,
   "metadata": {},
   "outputs": [],
   "source": [
    "expit(1.1)-expit(1)"
   ]
  },
  {
   "cell_type": "code",
   "execution_count": null,
   "metadata": {},
   "outputs": [],
   "source": [
    "expit(5)-expit(2.1)"
   ]
  },
  {
   "cell_type": "code",
   "execution_count": null,
   "metadata": {},
   "outputs": [],
   "source": [
    "def softmax(x):\n",
    "    \"\"\"Compute softmax values for each sets of scores in x.\"\"\"\n",
    "    e_x = np.exp(x - np.max(x))\n",
    "    return e_x / e_x.sum()\n"
   ]
  },
  {
   "cell_type": "code",
   "execution_count": null,
   "metadata": {},
   "outputs": [],
   "source": [
    "softmax(gbt_bin_clf_contrib[1])"
   ]
  },
  {
   "cell_type": "code",
   "execution_count": null,
   "metadata": {},
   "outputs": [],
   "source": []
  },
  {
   "cell_type": "code",
   "execution_count": null,
   "metadata": {},
   "outputs": [],
   "source": [
    "df3, true_label3, pred3 = plot_obs_feature_contrib(gbt_bin_clf,\n",
    "                                                gbt_bin_clf_contrib,\n",
    "                                                X_test_c,\n",
    "                                                pd.DataFrame(y_test_c,columns=['target']),\n",
    "                                                1,\n",
    "                                                order_by='contribution',\n",
    "                                                num_features=100                                                                \n",
    "                                    )\n",
    "plt.tight_layout()\n",
    "plt.savefig('plots/contribution_plot_gbt_class.png')"
   ]
  },
  {
   "cell_type": "markdown",
   "metadata": {},
   "source": [
    "## Regression Contributions"
   ]
  },
  {
   "cell_type": "code",
   "execution_count": null,
   "metadata": {},
   "outputs": [],
   "source": [
    "idxTest = 1\n",
    "calcProba = 1.0 - expit((gbt_bin_clf_pred[idxTest] + logit(y_train_c.mean())))\n",
    "\n",
    "print(\"         y_mean: \" + str(y_train_c.mean()))\n",
    "print(\"  logit(y_mean): \" + str(logit(y_train_c.mean())))\n",
    "print(\"          pred2: \" + str(gbt_bin_clf_pred[idxTest]))\n",
    "print(\"          origP: \" + str(gbt_bin_clf_orig_proba[idxTest][0]))\n",
    "print(\"         calcP : \" + str(calcProba))\n",
    "print(\"logit(calcProb): \" + str(logit(calcProba)))\n",
    "#print(gbt_bin_clf_contrib[0])\n",
    "print(\"    sum contrib: \" + str(gbt_bin_clf_contrib[idxTest].sum()))\n",
    "print(\"           bias: \" + str(gbt_bin_clf_bias[idxTest]))\n",
    "print(\"sum contrib + b: \" + str(gbt_bin_clf_contrib[idxTest].sum() + gbt_bin_clf_bias[0]))\n",
    "print(\"          Label: \" + str(y_test_c[idxTest]))\n",
    "\n",
    "print(\"sum(contrib) + b = prediction\")\n",
    "print(\"expit( prediction + logit(y_mean)) = proba\")"
   ]
  },
  {
   "cell_type": "code",
   "execution_count": null,
   "metadata": {},
   "outputs": [],
   "source": [
    "gbt_bin_clf_contrib[1]"
   ]
  },
  {
   "cell_type": "code",
   "execution_count": null,
   "metadata": {},
   "outputs": [],
   "source": [
    "gbt_bin_clf_bias[0]"
   ]
  },
  {
   "cell_type": "code",
   "execution_count": null,
   "metadata": {},
   "outputs": [],
   "source": []
  },
  {
   "cell_type": "code",
   "execution_count": null,
   "metadata": {},
   "outputs": [],
   "source": [
    "gbt_bin_clf_bias[0]"
   ]
  },
  {
   "cell_type": "code",
   "execution_count": null,
   "metadata": {},
   "outputs": [],
   "source": []
  },
  {
   "cell_type": "code",
   "execution_count": null,
   "metadata": {},
   "outputs": [],
   "source": [
    "foo = gbt_bin_clf_contrib.sum(axis=1)\n",
    "print(foo.shape)\n",
    "print(foo)\n",
    "print(expit(foo[0] - gbt_bin_clf_bias[0]))\n",
    "print(gbt_bin_clf_bias[0])\n",
    "print(logit(gbt_bin_clf_bias[0]))"
   ]
  },
  {
   "cell_type": "code",
   "execution_count": null,
   "metadata": {},
   "outputs": [],
   "source": [
    "rf_bin_clf.predict_proba(X_test_c)"
   ]
  },
  {
   "cell_type": "code",
   "execution_count": null,
   "metadata": {},
   "outputs": [],
   "source": []
  },
  {
   "cell_type": "code",
   "execution_count": null,
   "metadata": {},
   "outputs": [],
   "source": [
    "gbt_bin_clf_contrib[5]"
   ]
  },
  {
   "cell_type": "code",
   "execution_count": null,
   "metadata": {},
   "outputs": [],
   "source": [
    "expit(gbt_bin_clf_contrib[5])"
   ]
  },
  {
   "cell_type": "code",
   "execution_count": null,
   "metadata": {},
   "outputs": [],
   "source": [
    "gbt_bin_clf_bias"
   ]
  },
  {
   "cell_type": "code",
   "execution_count": null,
   "metadata": {},
   "outputs": [],
   "source": []
  },
  {
   "cell_type": "code",
   "execution_count": null,
   "metadata": {},
   "outputs": [],
   "source": [
    "FirstSplit = X_train_c[X_train_c['worst perimeter']<=106.05]"
   ]
  },
  {
   "cell_type": "code",
   "execution_count": null,
   "metadata": {},
   "outputs": [],
   "source": [
    "SecondSplit = FirstSplit[FirstSplit['worst concave points']<=0.16]"
   ]
  },
  {
   "cell_type": "code",
   "execution_count": null,
   "metadata": {},
   "outputs": [],
   "source": [
    "yT = pd.DataFrame(y_train_c,columns=['target'], index=X_train_c.index)"
   ]
  },
  {
   "cell_type": "code",
   "execution_count": null,
   "metadata": {},
   "outputs": [],
   "source": [
    "trueY = pd.DataFrame(gbt_bin_clf.predict(X_train_c), columns=['target'], index=X_train_c.index)"
   ]
  },
  {
   "cell_type": "code",
   "execution_count": null,
   "metadata": {},
   "outputs": [],
   "source": [
    "np.sqrt((yT.loc[FirstSplit.index, 'target'].values-trueY.loc[FirstSplit.index, 'target'].values).sum()**2)/271"
   ]
  },
  {
   "cell_type": "code",
   "execution_count": null,
   "metadata": {},
   "outputs": [],
   "source": [
    "170/285"
   ]
  },
  {
   "cell_type": "code",
   "execution_count": null,
   "metadata": {},
   "outputs": [],
   "source": [
    "yT['target'].value_counts()"
   ]
  },
  {
   "cell_type": "code",
   "execution_count": null,
   "metadata": {},
   "outputs": [],
   "source": [
    "262.0/271.0*np.log(262.0/271.0) + 9./271.0 * np.log(9./271.0)"
   ]
  },
  {
   "cell_type": "code",
   "execution_count": null,
   "metadata": {},
   "outputs": [],
   "source": [
    "expit(0.472)"
   ]
  },
  {
   "cell_type": "code",
   "execution_count": null,
   "metadata": {},
   "outputs": [],
   "source": [
    "ml = 0.967 \n",
    "mr = 0.125\n",
    "diff = ml - mr\n",
    "nl = 271 \n",
    "nr = 184\n",
    "I = nl * nr * diff**2 /(nl + nr)"
   ]
  },
  {
   "cell_type": "code",
   "execution_count": null,
   "metadata": {},
   "outputs": [],
   "source": [
    "gbt_bin_clf.predict_proba(X_test_c)"
   ]
  },
  {
   "cell_type": "code",
   "execution_count": null,
   "metadata": {},
   "outputs": [],
   "source": [
    "mod = gbt_bin_clf.estimators_[0][0]\n",
    "expit(0.1* mod.predict(X_test_c))\n",
    "logit(gbt_bin_clf.predict_proba(X_test_c)[:,1])-(0.1* mod.predict(X_test_c))\n",
    "expit(0.51669074)\n"
   ]
  },
  {
   "cell_type": "code",
   "execution_count": null,
   "metadata": {},
   "outputs": [],
   "source": [
    "gbt_bin_clf.predict_proba(X_test_c)[:,1]- expit(0.1* mod.predict(X_test_c)+0.51669074)"
   ]
  },
  {
   "cell_type": "code",
   "execution_count": null,
   "metadata": {},
   "outputs": [],
   "source": [
    "gbt_clf_dot_data0 = export_graphviz(gbt_bin_clf.estimators_[0][0],\n",
    "                                   out_file=None,\n",
    "                                   feature_names=X_train_c.columns\n",
    "                                  )\n",
    "gbt_clf_graph0 = pydotplus.graph_from_dot_data(gbt_clf_dot_data0)\n",
    "gbt_clf_graph0.write_png('plots/bin_clf_gbt0_path.png')\n",
    "Image(gbt_clf_graph0.create_png())"
   ]
  },
  {
   "cell_type": "code",
   "execution_count": null,
   "metadata": {},
   "outputs": [],
   "source": [
    "gbt_clf_dot_data1 = export_graphviz(gbt_bin_clf.estimators_[1][0],\n",
    "                                   out_file=None,\n",
    "                                   feature_names=X_train_c.columns\n",
    "                                  )\n",
    "gbt_clf_graph1 = pydotplus.graph_from_dot_data(gbt_clf_dot_data1)\n",
    "gbt_clf_graph1.write_png('plots/bin_clf_gbt1_path.png')\n",
    "Image(gbt_clf_graph1.create_png())"
   ]
  },
  {
   "cell_type": "code",
   "execution_count": null,
   "metadata": {},
   "outputs": [],
   "source": [
    "rf_clf_dot_data0 = export_graphviz(rf_bin_clf.estimators_[0],\n",
    "                                   out_file=None,\n",
    "                                   feature_names=X_train_c.columns\n",
    "                                  )\n",
    "rf_clf_graph0 = pydotplus.graph_from_dot_data(rf_clf_dot_data0)\n",
    "rf_clf_graph0.write_png('plots/bin_clf_rf0_path.png')\n",
    "Image(rf_clf_graph0.create_png())"
   ]
  },
  {
   "cell_type": "code",
   "execution_count": null,
   "metadata": {},
   "outputs": [],
   "source": [
    "rf_clf_dot_data1 = export_graphviz(rf_bin_clf.estimators_[1],\n",
    "                                   out_file=None,\n",
    "                                   feature_names=X_train_c.columns\n",
    "                                  )\n",
    "rf_clf_graph1 = pydotplus.graph_from_dot_data(rf_clf_dot_data1)\n",
    "rf_clf_graph1.write_png('plots/bin_clf_rf1_path.png')\n",
    "Image(rf_clf_graph1.create_png())"
   ]
  },
  {
   "cell_type": "code",
   "execution_count": null,
   "metadata": {},
   "outputs": [],
   "source": [
    "X_train_c.columns"
   ]
  },
  {
   "cell_type": "code",
   "execution_count": null,
   "metadata": {},
   "outputs": [],
   "source": [
    "print('Convenience plot with ``partial_dependence_plots``')\n",
    "names = X_train_c.columns\n",
    "features = [10, 27, 28, 22, (5, 1)]\n",
    "fig, axs = plot_partial_dependence(gbt_bin_clf, X_train_c, features,\n",
    "                                   feature_names=names,\n",
    "                                   n_jobs=3, grid_resolution=50)\n",
    "fig.suptitle('Partial dependence')\n",
    "plt.subplots_adjust(top=0.9)  # tight_layout causes overlap with suptitle\n",
    "\n",
    "print('Custom 3d plot via ``partial_dependence``')\n",
    "fig = plt.figure()\n",
    "\n",
    "target_feature = (27, 22)\n",
    "pdp, axes = partial_dependence(gbt_bin_clf, target_feature,\n",
    "                               X=X_train_c, grid_resolution=50)\n",
    "XX, YY = np.meshgrid(axes[0], axes[1])\n",
    "Z = pdp[0].reshape(list(map(np.size, axes))).T\n",
    "ax = Axes3D(fig)\n",
    "surf = ax.plot_surface(XX, YY, Z, rstride=1, cstride=1,\n",
    "                       cmap=plt.cm.BuPu, edgecolor='k')\n",
    "ax.set_xlabel(names[target_feature[0]])\n",
    "ax.set_ylabel(names[target_feature[1]])\n",
    "ax.set_zlabel('Partial dependence')\n",
    "#  pretty init view\n",
    "ax.view_init(elev=22, azim=122)\n",
    "plt.colorbar(surf)\n",
    "plt.suptitle('Partial dependence cancer on worst\\n'\n",
    "             'symmetry and worst concave points')\n",
    "plt.subplots_adjust(top=0.9)\n",
    "\n",
    "plt.show()"
   ]
  },
  {
   "cell_type": "code",
   "execution_count": null,
   "metadata": {},
   "outputs": [],
   "source": [
    "X_test_c.iloc[0]"
   ]
  },
  {
   "cell_type": "code",
   "execution_count": null,
   "metadata": {},
   "outputs": [],
   "source": [
    "import lime\n",
    "import lime.lime_tabular"
   ]
  },
  {
   "cell_type": "code",
   "execution_count": null,
   "metadata": {},
   "outputs": [],
   "source": [
    "X_train_c.as_matrix()"
   ]
  },
  {
   "cell_type": "code",
   "execution_count": null,
   "metadata": {},
   "outputs": [],
   "source": [
    "explainer = lime.lime_tabular.LimeTabularExplainer(X_train_c.as_matrix(), feature_names=X_train_c.columns, class_names=[\"neg\", \"pos\"], discretize_continuous=True, kernel_width=3)\n"
   ]
  },
  {
   "cell_type": "code",
   "execution_count": null,
   "metadata": {},
   "outputs": [],
   "source": [
    "exp = explainer.explain_instance(X_test_c.as_matrix()[1], gbt_bin_clf.predict_proba, num_features=10, top_labels=1)"
   ]
  },
  {
   "cell_type": "code",
   "execution_count": null,
   "metadata": {},
   "outputs": [],
   "source": [
    "exp.show_in_notebook(show_table=True, show_all=False)\n"
   ]
  },
  {
   "cell_type": "code",
   "execution_count": null,
   "metadata": {},
   "outputs": [],
   "source": [
    "exp_rf = explainer.explain_instance(X_test_c.as_matrix()[1], rf_bin_clf.predict_proba, num_features=10, top_labels=1)"
   ]
  },
  {
   "cell_type": "code",
   "execution_count": null,
   "metadata": {},
   "outputs": [],
   "source": [
    "exp_rf.show_in_notebook(show_table=True, show_all=False)\n"
   ]
  },
  {
   "cell_type": "code",
   "execution_count": null,
   "metadata": {},
   "outputs": [],
   "source": []
  }
 ],
 "metadata": {
  "kernelspec": {
   "display_name": "Python 3",
   "language": "python",
   "name": "python3"
  },
  "language_info": {
   "codemirror_mode": {
    "name": "ipython",
    "version": 3
   },
   "file_extension": ".py",
   "mimetype": "text/x-python",
   "name": "python",
   "nbconvert_exporter": "python",
   "pygments_lexer": "ipython3",
   "version": "3.6.3"
  },
  "toc": {
   "colors": {
    "hover_highlight": "#DAA520",
    "navigate_num": "#000000",
    "navigate_text": "#333333",
    "running_highlight": "#FF0000",
    "selected_highlight": "#FFD700",
    "sidebar_border": "#EEEEEE",
    "wrapper_background": "#FFFFFF"
   },
   "moveMenuLeft": true,
   "nav_menu": {
    "height": "12px",
    "width": "252px"
   },
   "navigate_menu": true,
   "number_sections": true,
   "sideBar": true,
   "threshold": 4,
   "toc_cell": true,
   "toc_position": {
    "height": "1211px",
    "left": "0px",
    "right": "1068px",
    "top": "106px",
    "width": "212px"
   },
   "toc_section_display": "block",
   "toc_window_display": true,
   "widenNotebook": false
  }
 },
 "nbformat": 4,
 "nbformat_minor": 2
}
